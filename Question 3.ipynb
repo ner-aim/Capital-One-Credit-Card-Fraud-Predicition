{
 "cells": [
  {
   "cell_type": "markdown",
   "metadata": {},
   "source": [
    "### [1]"
   ]
  },
  {
   "cell_type": "markdown",
   "metadata": {},
   "source": [
    "### Importing the libraries:"
   ]
  },
  {
   "cell_type": "code",
   "execution_count": 2,
   "metadata": {},
   "outputs": [],
   "source": [
    "import pandas as pd\n",
    "import numpy as np\n",
    "import json\n",
    "import shutup \n",
    "from datetime import datetime\n",
    "shutup.please()"
   ]
  },
  {
   "cell_type": "markdown",
   "metadata": {},
   "source": [
    "##### Description:\n",
    "\n",
    "As a standard, I am importing the pandas, numpy, json and shutup libraries which are required for my computation purposes. \n",
    "\n",
    "Since this is the feature engineering part, I am using datetime as my primary variable to measure the transactions for the multiswipe. I am using a simple method of assumption for the reversal, making it easier to find the reversal transactions. \n",
    "##### Libraries used for Feature Engineering and Data Wrangling: \n",
    "\n",
    "    datetime\n",
    "    pandas\n",
    "\n",
    "##### Attributes and functions used for data wrangling:\n",
    "    Datetime objects\n",
    "    Lambda functions for conversions\n",
    "    Group by\n",
    "    For loops and conditional statements"
   ]
  },
  {
   "cell_type": "markdown",
   "metadata": {},
   "source": [
    "### [2]"
   ]
  },
  {
   "cell_type": "markdown",
   "metadata": {},
   "source": [
    "### Reading the file:"
   ]
  },
  {
   "cell_type": "code",
   "execution_count": 3,
   "metadata": {},
   "outputs": [],
   "source": [
    "df = pd.read_json(\"transactions.txt\", lines = True)"
   ]
  },
  {
   "cell_type": "code",
   "execution_count": 4,
   "metadata": {},
   "outputs": [],
   "source": [
    "pd.set_option('display.max_columns', None)"
   ]
  },
  {
   "cell_type": "markdown",
   "metadata": {},
   "source": [
    " "
   ]
  },
  {
   "cell_type": "markdown",
   "metadata": {},
   "source": [
    "#### Refer to [2.1] from 'Question 1.ipynb' for additional information about reading the file."
   ]
  },
  {
   "cell_type": "markdown",
   "metadata": {},
   "source": [
    " "
   ]
  },
  {
   "cell_type": "markdown",
   "metadata": {},
   "source": [
    "### [3]"
   ]
  },
  {
   "cell_type": "markdown",
   "metadata": {},
   "source": [
    "### Data Wrangling:"
   ]
  },
  {
   "cell_type": "markdown",
   "metadata": {},
   "source": [
    " \n"
   ]
  },
  {
   "cell_type": "markdown",
   "metadata": {},
   "source": [
    "#### [3.1]"
   ]
  },
  {
   "cell_type": "markdown",
   "metadata": {},
   "source": [
    "#### Assumptions for the reversal and multiswipe transactions:"
   ]
  },
  {
   "cell_type": "markdown",
   "metadata": {},
   "source": [
    "**Assumption:** \n",
    "\n",
    "From a casual look at the dataset, I can assertively get the number of reversals by just filtering the number of reversal transaction type.\n",
    "\n",
    "This is not a huge task if you think about it, although there are other things that one should consider. And one such thing is provided in the question description.\n",
    "\n",
    "The questions to look at the transactions that are duplicate and followed by a purchase. This means that there are either transactions that are reversed or are multiswipe.\n",
    "\n",
    "Now using the conditional operators, I can find the reversal transactions that are a purchase followed by a reversal. "
   ]
  },
  {
   "cell_type": "markdown",
   "metadata": {},
   "source": [
    "**Method:**\n",
    "\n",
    "Assuming the REVERSED transactions are purchases that are always followed by a reverse, I am trying to get the transactions whose transaction amounts are same, else I would consider them as a refund as opposed to a reversal transactions. \n",
    "\n",
    "Here I am not calculating the amount of transactions yet, because I want to be sure about the amount between the times the reversal is going to happen that I will be discussing the next few steps."
   ]
  },
  {
   "cell_type": "code",
   "execution_count": 5,
   "metadata": {},
   "outputs": [
    {
     "data": {
      "text/plain": [
       "6064"
      ]
     },
     "execution_count": 5,
     "metadata": {},
     "output_type": "execute_result"
    }
   ],
   "source": [
    "count=0\n",
    "for i in range(1,len(df)):\n",
    "    if(df.transactionAmount[i]==df.transactionAmount[i-1] and df.transactionType[i-1]==\"PURCHASE\" and df.transactionType[i]==\"REVERSAL\"):\n",
    "        count+=1\n",
    "count"
   ]
  },
  {
   "cell_type": "markdown",
   "metadata": {},
   "source": [
    "##### Description:\n",
    "\n",
    "The above function describes the transactions that are going to be reversed where the transactions are duplicated, and the purchases are followed by a reversal\n",
    "\n",
    "##### Input Parameters:\n",
    "\n",
    "We are using the following the transactionAmount column to find the immediate duplicate transactions, and checking whether the purchases are followed by the reversal. \n",
    "\n",
    "##### Output:\n",
    "\n",
    "I am outputting the number of reversal transactions. This will be further checked with the number of minutes. "
   ]
  },
  {
   "cell_type": "code",
   "execution_count": 6,
   "metadata": {},
   "outputs": [
    {
     "data": {
      "text/plain": [
       "20303"
      ]
     },
     "execution_count": 6,
     "metadata": {},
     "output_type": "execute_result"
    }
   ],
   "source": [
    "len(df[df.transactionType==\"REVERSAL\"])"
   ]
  },
  {
   "cell_type": "markdown",
   "metadata": {},
   "source": [
    "Since there are more number of attributes that say they are reversal, I assume that a lot of those could be refunds or fraudulent transactions."
   ]
  },
  {
   "cell_type": "markdown",
   "metadata": {},
   "source": [
    "### [4]\n",
    "\n",
    "### Feature Engineering"
   ]
  },
  {
   "cell_type": "markdown",
   "metadata": {},
   "source": [
    "#### Method:\n",
    "    \n",
    "***Why am I doing feature engineering while doing the question?***\n",
    "\n",
    "Since I am going to use the minutes as a feature, I would like to remove a few things before hand and store the final features into the dataframe. This will help me save time on the model and not do excessive stuff other than training and testing the model.\n"
   ]
  },
  {
   "cell_type": "markdown",
   "metadata": {},
   "source": [
    "#### [4.1] \n",
    "\n",
    "\n",
    "##### Dropping unnecessary columns:\n",
    "\n",
    "In the Question 1 notebook, we have observed that there are a features that are completely null and will no be useful for our dataset. "
   ]
  },
  {
   "cell_type": "code",
   "execution_count": 7,
   "metadata": {},
   "outputs": [],
   "source": [
    "df = df.drop([\"echoBuffer\", \"merchantState\", \"merchantCity\", \"merchantZip\", \"posOnPremises\", \"recurringAuthInd\"], axis = 1)"
   ]
  },
  {
   "cell_type": "code",
   "execution_count": 8,
   "metadata": {},
   "outputs": [
    {
     "data": {
      "text/plain": [
       "(786363, 23)"
      ]
     },
     "execution_count": 8,
     "metadata": {},
     "output_type": "execute_result"
    }
   ],
   "source": [
    "df.shape"
   ]
  },
  {
   "cell_type": "markdown",
   "metadata": {},
   "source": [
    "#### [4.2] \n",
    "\n",
    "##### CVV MATCH\n",
    "\n",
    "Adding a feature called CVV match so that we can drop the cardCVV and enteredCVV and the model doesn't have to do extra work on correlating the features"
   ]
  },
  {
   "cell_type": "code",
   "execution_count": 9,
   "metadata": {},
   "outputs": [],
   "source": [
    "df[\"CVV Match\"]  = df.cardCVV == df.enteredCVV"
   ]
  },
  {
   "cell_type": "code",
   "execution_count": 10,
   "metadata": {},
   "outputs": [
    {
     "data": {
      "text/plain": [
       "True     779348\n",
       "False      7015\n",
       "Name: CVV Match, dtype: int64"
      ]
     },
     "execution_count": 10,
     "metadata": {},
     "output_type": "execute_result"
    }
   ],
   "source": [
    "df[\"CVV Match\"].value_counts()"
   ]
  },
  {
   "cell_type": "markdown",
   "metadata": {},
   "source": [
    " "
   ]
  },
  {
   "cell_type": "markdown",
   "metadata": {},
   "source": [
    "#### [4.3] \n",
    "\n",
    "##### Dropping more columns to make a new dataframe"
   ]
  },
  {
   "cell_type": "markdown",
   "metadata": {},
   "source": [
    "##### One last check for the df and how many records can be dropped from the dataset using the head and co-relation matrix:"
   ]
  },
  {
   "cell_type": "code",
   "execution_count": 11,
   "metadata": {},
   "outputs": [
    {
     "data": {
      "text/html": [
       "<div>\n",
       "<style scoped>\n",
       "    .dataframe tbody tr th:only-of-type {\n",
       "        vertical-align: middle;\n",
       "    }\n",
       "\n",
       "    .dataframe tbody tr th {\n",
       "        vertical-align: top;\n",
       "    }\n",
       "\n",
       "    .dataframe thead th {\n",
       "        text-align: right;\n",
       "    }\n",
       "</style>\n",
       "<table border=\"1\" class=\"dataframe\">\n",
       "  <thead>\n",
       "    <tr style=\"text-align: right;\">\n",
       "      <th></th>\n",
       "      <th>accountNumber</th>\n",
       "      <th>customerId</th>\n",
       "      <th>creditLimit</th>\n",
       "      <th>availableMoney</th>\n",
       "      <th>transactionDateTime</th>\n",
       "      <th>transactionAmount</th>\n",
       "      <th>merchantName</th>\n",
       "      <th>acqCountry</th>\n",
       "      <th>merchantCountryCode</th>\n",
       "      <th>posEntryMode</th>\n",
       "      <th>posConditionCode</th>\n",
       "      <th>merchantCategoryCode</th>\n",
       "      <th>currentExpDate</th>\n",
       "      <th>accountOpenDate</th>\n",
       "      <th>dateOfLastAddressChange</th>\n",
       "      <th>cardCVV</th>\n",
       "      <th>enteredCVV</th>\n",
       "      <th>cardLast4Digits</th>\n",
       "      <th>transactionType</th>\n",
       "      <th>currentBalance</th>\n",
       "      <th>cardPresent</th>\n",
       "      <th>expirationDateKeyInMatch</th>\n",
       "      <th>isFraud</th>\n",
       "      <th>CVV Match</th>\n",
       "    </tr>\n",
       "  </thead>\n",
       "  <tbody>\n",
       "    <tr>\n",
       "      <th>0</th>\n",
       "      <td>737265056</td>\n",
       "      <td>737265056</td>\n",
       "      <td>5000</td>\n",
       "      <td>5000.0</td>\n",
       "      <td>2016-08-13T14:27:32</td>\n",
       "      <td>98.55</td>\n",
       "      <td>Uber</td>\n",
       "      <td>US</td>\n",
       "      <td>US</td>\n",
       "      <td>02</td>\n",
       "      <td>01</td>\n",
       "      <td>rideshare</td>\n",
       "      <td>06/2023</td>\n",
       "      <td>2015-03-14</td>\n",
       "      <td>2015-03-14</td>\n",
       "      <td>414</td>\n",
       "      <td>414</td>\n",
       "      <td>1803</td>\n",
       "      <td>PURCHASE</td>\n",
       "      <td>0.0</td>\n",
       "      <td>False</td>\n",
       "      <td>False</td>\n",
       "      <td>False</td>\n",
       "      <td>True</td>\n",
       "    </tr>\n",
       "    <tr>\n",
       "      <th>1</th>\n",
       "      <td>737265056</td>\n",
       "      <td>737265056</td>\n",
       "      <td>5000</td>\n",
       "      <td>5000.0</td>\n",
       "      <td>2016-10-11T05:05:54</td>\n",
       "      <td>74.51</td>\n",
       "      <td>AMC #191138</td>\n",
       "      <td>US</td>\n",
       "      <td>US</td>\n",
       "      <td>09</td>\n",
       "      <td>01</td>\n",
       "      <td>entertainment</td>\n",
       "      <td>02/2024</td>\n",
       "      <td>2015-03-14</td>\n",
       "      <td>2015-03-14</td>\n",
       "      <td>486</td>\n",
       "      <td>486</td>\n",
       "      <td>767</td>\n",
       "      <td>PURCHASE</td>\n",
       "      <td>0.0</td>\n",
       "      <td>True</td>\n",
       "      <td>False</td>\n",
       "      <td>False</td>\n",
       "      <td>True</td>\n",
       "    </tr>\n",
       "    <tr>\n",
       "      <th>2</th>\n",
       "      <td>737265056</td>\n",
       "      <td>737265056</td>\n",
       "      <td>5000</td>\n",
       "      <td>5000.0</td>\n",
       "      <td>2016-11-08T09:18:39</td>\n",
       "      <td>7.47</td>\n",
       "      <td>Play Store</td>\n",
       "      <td>US</td>\n",
       "      <td>US</td>\n",
       "      <td>09</td>\n",
       "      <td>01</td>\n",
       "      <td>mobileapps</td>\n",
       "      <td>08/2025</td>\n",
       "      <td>2015-03-14</td>\n",
       "      <td>2015-03-14</td>\n",
       "      <td>486</td>\n",
       "      <td>486</td>\n",
       "      <td>767</td>\n",
       "      <td>PURCHASE</td>\n",
       "      <td>0.0</td>\n",
       "      <td>False</td>\n",
       "      <td>False</td>\n",
       "      <td>False</td>\n",
       "      <td>True</td>\n",
       "    </tr>\n",
       "    <tr>\n",
       "      <th>3</th>\n",
       "      <td>737265056</td>\n",
       "      <td>737265056</td>\n",
       "      <td>5000</td>\n",
       "      <td>5000.0</td>\n",
       "      <td>2016-12-10T02:14:50</td>\n",
       "      <td>7.47</td>\n",
       "      <td>Play Store</td>\n",
       "      <td>US</td>\n",
       "      <td>US</td>\n",
       "      <td>09</td>\n",
       "      <td>01</td>\n",
       "      <td>mobileapps</td>\n",
       "      <td>08/2025</td>\n",
       "      <td>2015-03-14</td>\n",
       "      <td>2015-03-14</td>\n",
       "      <td>486</td>\n",
       "      <td>486</td>\n",
       "      <td>767</td>\n",
       "      <td>PURCHASE</td>\n",
       "      <td>0.0</td>\n",
       "      <td>False</td>\n",
       "      <td>False</td>\n",
       "      <td>False</td>\n",
       "      <td>True</td>\n",
       "    </tr>\n",
       "    <tr>\n",
       "      <th>4</th>\n",
       "      <td>830329091</td>\n",
       "      <td>830329091</td>\n",
       "      <td>5000</td>\n",
       "      <td>5000.0</td>\n",
       "      <td>2016-03-24T21:04:46</td>\n",
       "      <td>71.18</td>\n",
       "      <td>Tim Hortons #947751</td>\n",
       "      <td>US</td>\n",
       "      <td>US</td>\n",
       "      <td>02</td>\n",
       "      <td>01</td>\n",
       "      <td>fastfood</td>\n",
       "      <td>10/2029</td>\n",
       "      <td>2015-08-06</td>\n",
       "      <td>2015-08-06</td>\n",
       "      <td>885</td>\n",
       "      <td>885</td>\n",
       "      <td>3143</td>\n",
       "      <td>PURCHASE</td>\n",
       "      <td>0.0</td>\n",
       "      <td>True</td>\n",
       "      <td>False</td>\n",
       "      <td>False</td>\n",
       "      <td>True</td>\n",
       "    </tr>\n",
       "  </tbody>\n",
       "</table>\n",
       "</div>"
      ],
      "text/plain": [
       "   accountNumber  customerId  creditLimit  availableMoney  \\\n",
       "0      737265056   737265056         5000          5000.0   \n",
       "1      737265056   737265056         5000          5000.0   \n",
       "2      737265056   737265056         5000          5000.0   \n",
       "3      737265056   737265056         5000          5000.0   \n",
       "4      830329091   830329091         5000          5000.0   \n",
       "\n",
       "   transactionDateTime  transactionAmount         merchantName acqCountry  \\\n",
       "0  2016-08-13T14:27:32              98.55                 Uber         US   \n",
       "1  2016-10-11T05:05:54              74.51          AMC #191138         US   \n",
       "2  2016-11-08T09:18:39               7.47           Play Store         US   \n",
       "3  2016-12-10T02:14:50               7.47           Play Store         US   \n",
       "4  2016-03-24T21:04:46              71.18  Tim Hortons #947751         US   \n",
       "\n",
       "  merchantCountryCode posEntryMode posConditionCode merchantCategoryCode  \\\n",
       "0                  US           02               01            rideshare   \n",
       "1                  US           09               01        entertainment   \n",
       "2                  US           09               01           mobileapps   \n",
       "3                  US           09               01           mobileapps   \n",
       "4                  US           02               01             fastfood   \n",
       "\n",
       "  currentExpDate accountOpenDate dateOfLastAddressChange  cardCVV  enteredCVV  \\\n",
       "0        06/2023      2015-03-14              2015-03-14      414         414   \n",
       "1        02/2024      2015-03-14              2015-03-14      486         486   \n",
       "2        08/2025      2015-03-14              2015-03-14      486         486   \n",
       "3        08/2025      2015-03-14              2015-03-14      486         486   \n",
       "4        10/2029      2015-08-06              2015-08-06      885         885   \n",
       "\n",
       "   cardLast4Digits transactionType  currentBalance  cardPresent  \\\n",
       "0             1803        PURCHASE             0.0        False   \n",
       "1              767        PURCHASE             0.0         True   \n",
       "2              767        PURCHASE             0.0        False   \n",
       "3              767        PURCHASE             0.0        False   \n",
       "4             3143        PURCHASE             0.0         True   \n",
       "\n",
       "   expirationDateKeyInMatch  isFraud  CVV Match  \n",
       "0                     False    False       True  \n",
       "1                     False    False       True  \n",
       "2                     False    False       True  \n",
       "3                     False    False       True  \n",
       "4                     False    False       True  "
      ]
     },
     "execution_count": 11,
     "metadata": {},
     "output_type": "execute_result"
    }
   ],
   "source": [
    "df.head()"
   ]
  },
  {
   "cell_type": "code",
   "execution_count": 12,
   "metadata": {},
   "outputs": [
    {
     "data": {
      "text/html": [
       "<div>\n",
       "<style scoped>\n",
       "    .dataframe tbody tr th:only-of-type {\n",
       "        vertical-align: middle;\n",
       "    }\n",
       "\n",
       "    .dataframe tbody tr th {\n",
       "        vertical-align: top;\n",
       "    }\n",
       "\n",
       "    .dataframe thead th {\n",
       "        text-align: right;\n",
       "    }\n",
       "</style>\n",
       "<table border=\"1\" class=\"dataframe\">\n",
       "  <thead>\n",
       "    <tr style=\"text-align: right;\">\n",
       "      <th></th>\n",
       "      <th>accountNumber</th>\n",
       "      <th>customerId</th>\n",
       "      <th>creditLimit</th>\n",
       "      <th>availableMoney</th>\n",
       "      <th>transactionAmount</th>\n",
       "      <th>cardCVV</th>\n",
       "      <th>enteredCVV</th>\n",
       "      <th>cardLast4Digits</th>\n",
       "      <th>currentBalance</th>\n",
       "      <th>cardPresent</th>\n",
       "      <th>expirationDateKeyInMatch</th>\n",
       "      <th>isFraud</th>\n",
       "      <th>CVV Match</th>\n",
       "    </tr>\n",
       "  </thead>\n",
       "  <tbody>\n",
       "    <tr>\n",
       "      <th>accountNumber</th>\n",
       "      <td>1.000000</td>\n",
       "      <td>1.000000</td>\n",
       "      <td>0.140673</td>\n",
       "      <td>0.066345</td>\n",
       "      <td>-0.001364</td>\n",
       "      <td>-0.011432</td>\n",
       "      <td>-0.011376</td>\n",
       "      <td>0.038517</td>\n",
       "      <td>0.162248</td>\n",
       "      <td>0.006099</td>\n",
       "      <td>-0.001057</td>\n",
       "      <td>-0.004011</td>\n",
       "      <td>0.004877</td>\n",
       "    </tr>\n",
       "    <tr>\n",
       "      <th>customerId</th>\n",
       "      <td>1.000000</td>\n",
       "      <td>1.000000</td>\n",
       "      <td>0.140673</td>\n",
       "      <td>0.066345</td>\n",
       "      <td>-0.001364</td>\n",
       "      <td>-0.011432</td>\n",
       "      <td>-0.011376</td>\n",
       "      <td>0.038517</td>\n",
       "      <td>0.162248</td>\n",
       "      <td>0.006099</td>\n",
       "      <td>-0.001057</td>\n",
       "      <td>-0.004011</td>\n",
       "      <td>0.004877</td>\n",
       "    </tr>\n",
       "    <tr>\n",
       "      <th>creditLimit</th>\n",
       "      <td>0.140673</td>\n",
       "      <td>0.140673</td>\n",
       "      <td>1.000000</td>\n",
       "      <td>0.834977</td>\n",
       "      <td>0.005581</td>\n",
       "      <td>0.051006</td>\n",
       "      <td>0.051088</td>\n",
       "      <td>0.125611</td>\n",
       "      <td>0.653652</td>\n",
       "      <td>-0.003929</td>\n",
       "      <td>0.002391</td>\n",
       "      <td>0.003108</td>\n",
       "      <td>0.001343</td>\n",
       "    </tr>\n",
       "    <tr>\n",
       "      <th>availableMoney</th>\n",
       "      <td>0.066345</td>\n",
       "      <td>0.066345</td>\n",
       "      <td>0.834977</td>\n",
       "      <td>1.000000</td>\n",
       "      <td>-0.010070</td>\n",
       "      <td>0.016253</td>\n",
       "      <td>0.016323</td>\n",
       "      <td>0.073879</td>\n",
       "      <td>0.129332</td>\n",
       "      <td>0.002508</td>\n",
       "      <td>0.004067</td>\n",
       "      <td>-0.001538</td>\n",
       "      <td>-0.000583</td>\n",
       "    </tr>\n",
       "    <tr>\n",
       "      <th>transactionAmount</th>\n",
       "      <td>-0.001364</td>\n",
       "      <td>-0.001364</td>\n",
       "      <td>0.005581</td>\n",
       "      <td>-0.010070</td>\n",
       "      <td>1.000000</td>\n",
       "      <td>-0.000233</td>\n",
       "      <td>-0.000141</td>\n",
       "      <td>-0.001513</td>\n",
       "      <td>0.023905</td>\n",
       "      <td>0.037361</td>\n",
       "      <td>0.001751</td>\n",
       "      <td>0.075651</td>\n",
       "      <td>0.000701</td>\n",
       "    </tr>\n",
       "    <tr>\n",
       "      <th>cardCVV</th>\n",
       "      <td>-0.011432</td>\n",
       "      <td>-0.011432</td>\n",
       "      <td>0.051006</td>\n",
       "      <td>0.016253</td>\n",
       "      <td>-0.000233</td>\n",
       "      <td>1.000000</td>\n",
       "      <td>0.996008</td>\n",
       "      <td>-0.011608</td>\n",
       "      <td>0.069559</td>\n",
       "      <td>-0.045319</td>\n",
       "      <td>-0.000416</td>\n",
       "      <td>0.008652</td>\n",
       "      <td>-0.002996</td>\n",
       "    </tr>\n",
       "    <tr>\n",
       "      <th>enteredCVV</th>\n",
       "      <td>-0.011376</td>\n",
       "      <td>-0.011376</td>\n",
       "      <td>0.051088</td>\n",
       "      <td>0.016323</td>\n",
       "      <td>-0.000141</td>\n",
       "      <td>0.996008</td>\n",
       "      <td>1.000000</td>\n",
       "      <td>-0.011485</td>\n",
       "      <td>0.069610</td>\n",
       "      <td>-0.045113</td>\n",
       "      <td>-0.000200</td>\n",
       "      <td>0.008655</td>\n",
       "      <td>0.008429</td>\n",
       "    </tr>\n",
       "    <tr>\n",
       "      <th>cardLast4Digits</th>\n",
       "      <td>0.038517</td>\n",
       "      <td>0.038517</td>\n",
       "      <td>0.125611</td>\n",
       "      <td>0.073879</td>\n",
       "      <td>-0.001513</td>\n",
       "      <td>-0.011608</td>\n",
       "      <td>-0.011485</td>\n",
       "      <td>1.000000</td>\n",
       "      <td>0.124745</td>\n",
       "      <td>0.040726</td>\n",
       "      <td>0.002087</td>\n",
       "      <td>0.000886</td>\n",
       "      <td>-0.001305</td>\n",
       "    </tr>\n",
       "    <tr>\n",
       "      <th>currentBalance</th>\n",
       "      <td>0.162248</td>\n",
       "      <td>0.162248</td>\n",
       "      <td>0.653652</td>\n",
       "      <td>0.129332</td>\n",
       "      <td>0.023905</td>\n",
       "      <td>0.069559</td>\n",
       "      <td>0.069610</td>\n",
       "      <td>0.124745</td>\n",
       "      <td>1.000000</td>\n",
       "      <td>-0.010529</td>\n",
       "      <td>-0.001285</td>\n",
       "      <td>0.007715</td>\n",
       "      <td>0.003221</td>\n",
       "    </tr>\n",
       "    <tr>\n",
       "      <th>cardPresent</th>\n",
       "      <td>0.006099</td>\n",
       "      <td>0.006099</td>\n",
       "      <td>-0.003929</td>\n",
       "      <td>0.002508</td>\n",
       "      <td>0.037361</td>\n",
       "      <td>-0.045319</td>\n",
       "      <td>-0.045113</td>\n",
       "      <td>0.040726</td>\n",
       "      <td>-0.010529</td>\n",
       "      <td>1.000000</td>\n",
       "      <td>0.040393</td>\n",
       "      <td>-0.043418</td>\n",
       "      <td>0.002988</td>\n",
       "    </tr>\n",
       "    <tr>\n",
       "      <th>expirationDateKeyInMatch</th>\n",
       "      <td>-0.001057</td>\n",
       "      <td>-0.001057</td>\n",
       "      <td>0.002391</td>\n",
       "      <td>0.004067</td>\n",
       "      <td>0.001751</td>\n",
       "      <td>-0.000416</td>\n",
       "      <td>-0.000200</td>\n",
       "      <td>0.002087</td>\n",
       "      <td>-0.001285</td>\n",
       "      <td>0.040393</td>\n",
       "      <td>1.000000</td>\n",
       "      <td>-0.000972</td>\n",
       "      <td>0.000113</td>\n",
       "    </tr>\n",
       "    <tr>\n",
       "      <th>isFraud</th>\n",
       "      <td>-0.004011</td>\n",
       "      <td>-0.004011</td>\n",
       "      <td>0.003108</td>\n",
       "      <td>-0.001538</td>\n",
       "      <td>0.075651</td>\n",
       "      <td>0.008652</td>\n",
       "      <td>0.008655</td>\n",
       "      <td>0.000886</td>\n",
       "      <td>0.007715</td>\n",
       "      <td>-0.043418</td>\n",
       "      <td>-0.000972</td>\n",
       "      <td>1.000000</td>\n",
       "      <td>-0.010006</td>\n",
       "    </tr>\n",
       "    <tr>\n",
       "      <th>CVV Match</th>\n",
       "      <td>0.004877</td>\n",
       "      <td>0.004877</td>\n",
       "      <td>0.001343</td>\n",
       "      <td>-0.000583</td>\n",
       "      <td>0.000701</td>\n",
       "      <td>-0.002996</td>\n",
       "      <td>0.008429</td>\n",
       "      <td>-0.001305</td>\n",
       "      <td>0.003221</td>\n",
       "      <td>0.002988</td>\n",
       "      <td>0.000113</td>\n",
       "      <td>-0.010006</td>\n",
       "      <td>1.000000</td>\n",
       "    </tr>\n",
       "  </tbody>\n",
       "</table>\n",
       "</div>"
      ],
      "text/plain": [
       "                          accountNumber  customerId  creditLimit  \\\n",
       "accountNumber                  1.000000    1.000000     0.140673   \n",
       "customerId                     1.000000    1.000000     0.140673   \n",
       "creditLimit                    0.140673    0.140673     1.000000   \n",
       "availableMoney                 0.066345    0.066345     0.834977   \n",
       "transactionAmount             -0.001364   -0.001364     0.005581   \n",
       "cardCVV                       -0.011432   -0.011432     0.051006   \n",
       "enteredCVV                    -0.011376   -0.011376     0.051088   \n",
       "cardLast4Digits                0.038517    0.038517     0.125611   \n",
       "currentBalance                 0.162248    0.162248     0.653652   \n",
       "cardPresent                    0.006099    0.006099    -0.003929   \n",
       "expirationDateKeyInMatch      -0.001057   -0.001057     0.002391   \n",
       "isFraud                       -0.004011   -0.004011     0.003108   \n",
       "CVV Match                      0.004877    0.004877     0.001343   \n",
       "\n",
       "                          availableMoney  transactionAmount   cardCVV  \\\n",
       "accountNumber                   0.066345          -0.001364 -0.011432   \n",
       "customerId                      0.066345          -0.001364 -0.011432   \n",
       "creditLimit                     0.834977           0.005581  0.051006   \n",
       "availableMoney                  1.000000          -0.010070  0.016253   \n",
       "transactionAmount              -0.010070           1.000000 -0.000233   \n",
       "cardCVV                         0.016253          -0.000233  1.000000   \n",
       "enteredCVV                      0.016323          -0.000141  0.996008   \n",
       "cardLast4Digits                 0.073879          -0.001513 -0.011608   \n",
       "currentBalance                  0.129332           0.023905  0.069559   \n",
       "cardPresent                     0.002508           0.037361 -0.045319   \n",
       "expirationDateKeyInMatch        0.004067           0.001751 -0.000416   \n",
       "isFraud                        -0.001538           0.075651  0.008652   \n",
       "CVV Match                      -0.000583           0.000701 -0.002996   \n",
       "\n",
       "                          enteredCVV  cardLast4Digits  currentBalance  \\\n",
       "accountNumber              -0.011376         0.038517        0.162248   \n",
       "customerId                 -0.011376         0.038517        0.162248   \n",
       "creditLimit                 0.051088         0.125611        0.653652   \n",
       "availableMoney              0.016323         0.073879        0.129332   \n",
       "transactionAmount          -0.000141        -0.001513        0.023905   \n",
       "cardCVV                     0.996008        -0.011608        0.069559   \n",
       "enteredCVV                  1.000000        -0.011485        0.069610   \n",
       "cardLast4Digits            -0.011485         1.000000        0.124745   \n",
       "currentBalance              0.069610         0.124745        1.000000   \n",
       "cardPresent                -0.045113         0.040726       -0.010529   \n",
       "expirationDateKeyInMatch   -0.000200         0.002087       -0.001285   \n",
       "isFraud                     0.008655         0.000886        0.007715   \n",
       "CVV Match                   0.008429        -0.001305        0.003221   \n",
       "\n",
       "                          cardPresent  expirationDateKeyInMatch   isFraud  \\\n",
       "accountNumber                0.006099                 -0.001057 -0.004011   \n",
       "customerId                   0.006099                 -0.001057 -0.004011   \n",
       "creditLimit                 -0.003929                  0.002391  0.003108   \n",
       "availableMoney               0.002508                  0.004067 -0.001538   \n",
       "transactionAmount            0.037361                  0.001751  0.075651   \n",
       "cardCVV                     -0.045319                 -0.000416  0.008652   \n",
       "enteredCVV                  -0.045113                 -0.000200  0.008655   \n",
       "cardLast4Digits              0.040726                  0.002087  0.000886   \n",
       "currentBalance              -0.010529                 -0.001285  0.007715   \n",
       "cardPresent                  1.000000                  0.040393 -0.043418   \n",
       "expirationDateKeyInMatch     0.040393                  1.000000 -0.000972   \n",
       "isFraud                     -0.043418                 -0.000972  1.000000   \n",
       "CVV Match                    0.002988                  0.000113 -0.010006   \n",
       "\n",
       "                          CVV Match  \n",
       "accountNumber              0.004877  \n",
       "customerId                 0.004877  \n",
       "creditLimit                0.001343  \n",
       "availableMoney            -0.000583  \n",
       "transactionAmount          0.000701  \n",
       "cardCVV                   -0.002996  \n",
       "enteredCVV                 0.008429  \n",
       "cardLast4Digits           -0.001305  \n",
       "currentBalance             0.003221  \n",
       "cardPresent                0.002988  \n",
       "expirationDateKeyInMatch   0.000113  \n",
       "isFraud                   -0.010006  \n",
       "CVV Match                  1.000000  "
      ]
     },
     "execution_count": 12,
     "metadata": {},
     "output_type": "execute_result"
    }
   ],
   "source": [
    "df.corr()"
   ]
  },
  {
   "cell_type": "markdown",
   "metadata": {},
   "source": [
    " "
   ]
  },
  {
   "cell_type": "markdown",
   "metadata": {},
   "source": [
    "##### Dropping the columns customerId, dateOfAddressChange, AccountOpenDate, customerId, cardCVV, enteredCVV, cardLast4Digits\n",
    "\n",
    "Creating a new dataframe afterwards called the 'new_df'"
   ]
  },
  {
   "cell_type": "markdown",
   "metadata": {},
   "source": [
    "  "
   ]
  },
  {
   "cell_type": "code",
   "execution_count": 13,
   "metadata": {},
   "outputs": [],
   "source": [
    "new_df = df.drop([\"customerId\", \"currentExpDate\", \"dateOfLastAddressChange\", \"accountOpenDate\", \"cardCVV\", \"enteredCVV\", \"cardLast4Digits\"], axis = 1)"
   ]
  },
  {
   "cell_type": "markdown",
   "metadata": {},
   "source": [
    " "
   ]
  },
  {
   "cell_type": "markdown",
   "metadata": {},
   "source": [
    " "
   ]
  },
  {
   "cell_type": "markdown",
   "metadata": {},
   "source": [
    "\n",
    "### [5]\n",
    "\n",
    "\n",
    "#### Calculating the minutes for finding the multiswipe transactions:\n"
   ]
  },
  {
   "cell_type": "markdown",
   "metadata": {},
   "source": [
    "\n",
    "#### [5.1]\n",
    "\n",
    "#### Making the transaction time into a datetime object as opposed to a string.\n",
    "\n",
    "Using the lambda functions twice to convert the string into a datetime object.\n",
    "\n",
    "**Method:**\n",
    "    \n",
    "The strings onto the DateTime object are joined using the letter 'T'. We will split it into a list of two strings where the one 'T' contains date and the one after contains time.\n",
    "\n",
    "The lambda function is used again to join the two strings in the list into a single string. "
   ]
  },
  {
   "cell_type": "code",
   "execution_count": 14,
   "metadata": {},
   "outputs": [],
   "source": [
    "new_df.transactionDateTime = new_df.transactionDateTime.apply(lambda x : x.split(\"T\"))\n",
    "new_df.transactionDateTime = new_df.transactionDateTime.apply(lambda x: ' '.join(x))"
   ]
  },
  {
   "cell_type": "markdown",
   "metadata": {},
   "source": [
    "##### [5.1.1]\n",
    "\n",
    "Trying a demo of the transactionDateTime series by outputting the first variable, which will result in a string of the below format. "
   ]
  },
  {
   "cell_type": "code",
   "execution_count": 15,
   "metadata": {},
   "outputs": [
    {
     "data": {
      "text/plain": [
       "'2016-08-13 14:27:32'"
      ]
     },
     "execution_count": 15,
     "metadata": {},
     "output_type": "execute_result"
    }
   ],
   "source": [
    "x = new_df.transactionDateTime[0]\n",
    "x"
   ]
  },
  {
   "cell_type": "markdown",
   "metadata": {},
   "source": [
    "Now using the above format of string and converting the series into a DateTime object series. "
   ]
  },
  {
   "cell_type": "code",
   "execution_count": 16,
   "metadata": {},
   "outputs": [],
   "source": [
    "new_df.transactionDateTime = new_df.transactionDateTime.apply(lambda x: datetime.strptime(x,'%Y-%m-%d %H:%M:%S'))"
   ]
  },
  {
   "cell_type": "code",
   "execution_count": 18,
   "metadata": {},
   "outputs": [
    {
     "data": {
      "text/plain": [
       "accountNumber                        int64\n",
       "creditLimit                          int64\n",
       "availableMoney                     float64\n",
       "transactionDateTime         datetime64[ns]\n",
       "transactionAmount                  float64\n",
       "merchantName                        object\n",
       "acqCountry                          object\n",
       "merchantCountryCode                 object\n",
       "posEntryMode                        object\n",
       "posConditionCode                    object\n",
       "merchantCategoryCode                object\n",
       "transactionType                     object\n",
       "currentBalance                     float64\n",
       "cardPresent                           bool\n",
       "expirationDateKeyInMatch              bool\n",
       "isFraud                               bool\n",
       "CVV Match                             bool\n",
       "dtype: object"
      ]
     },
     "execution_count": 18,
     "metadata": {},
     "output_type": "execute_result"
    }
   ],
   "source": [
    "new_df.dtypes"
   ]
  },
  {
   "cell_type": "markdown",
   "metadata": {},
   "source": [
    " "
   ]
  },
  {
   "cell_type": "markdown",
   "metadata": {},
   "source": [
    "#### Here we see that the transactionDateTime is successfully found to be a datetime object"
   ]
  },
  {
   "cell_type": "markdown",
   "metadata": {},
   "source": [
    " "
   ]
  },
  {
   "cell_type": "markdown",
   "metadata": {},
   "source": [
    "#### [5.2]\n",
    "#### Using functions to calculate the difference between the transaction Dates:"
   ]
  },
  {
   "cell_type": "code",
   "execution_count": 25,
   "metadata": {},
   "outputs": [],
   "source": [
    "dates=new_df['transactionDateTime'].tolist()\n",
    "accntnum=new_df['accountNumber'].unique().tolist()\n",
    "results=[]\n",
    "def transactionPeriod(df):\n",
    "    dates=df.transactionDateTime.tolist()\n",
    "    result=[x-dates[i-1] for i,x in enumerate(dates) if i>0]\n",
    "    return result\n",
    "\n",
    "for i in accntnum:\n",
    "    sliced_df= new_df[new_df.accountNumber==i]\n",
    "    results.append(transactionPeriod(sliced_df))\n",
    "    \n",
    "\n",
    "\n",
    "map_results={}\n",
    "for accnt,re in zip(accntnum,results):\n",
    "    map_results[accnt]=re"
   ]
  },
  {
   "cell_type": "markdown",
   "metadata": {},
   "source": [
    "##### Description:\n",
    "Using the above codeblock to calculate the transactionPeriod and mapping the results into a single hashtable/dictionary.\n",
    "\n",
    "The function itself calculates the difference between the transactions dates and times for each accountnumber from the second transaction. \n",
    "First transaction is left aside because it doesn't have anything preceding it.\n",
    "\n",
    "\n",
    "This entire process is done for a sliced dataframe of all the accountNumbers.\n",
    "\n",
    "When we have the difference in transactions period, we zip this into a hastable.\n",
    "\n",
    "\n",
    "##### Input Parameters:\n",
    "\n",
    "For the fucntion:\n",
    "    \n",
    "    A sliced dataframe for each account number.\n",
    "\n",
    "For the accountnumbers:\n",
    "    \n",
    "    Slicing of dataframe according to the accountNumber\n",
    "\n",
    "For the hastable:\n",
    "    \n",
    "    AccountNumber and the difference in datetime\n",
    "    \n",
    "    \n",
    "##### Additional predefined parameters:\n",
    "\n",
    "    A list of accountNumbers\n",
    "    A list of transactionalDateTime object\n",
    "\n",
    "##### Outputs:\n",
    "\n",
    "A hastable containing the difference of the datetime "
   ]
  },
  {
   "cell_type": "markdown",
   "metadata": {},
   "source": [
    "#### [5.3]\n",
    "\n",
    "#### Calculating the minutes between each transaction for the account numbers:\n"
   ]
  },
  {
   "cell_type": "code",
   "execution_count": 26,
   "metadata": {},
   "outputs": [],
   "source": [
    "def calculate_min(delta):\n",
    "    days,seconds=delta.days,delta.seconds\n",
    "    hours=days*24 + seconds/3600\n",
    "    minutes= hours * 60\n",
    "    return minutes\n",
    "\n",
    "res_min=[]\n",
    "for i in map_results.values():\n",
    "    res_min.append([ calculate_min(j) for j in i])"
   ]
  },
  {
   "cell_type": "markdown",
   "metadata": {},
   "source": [
    "##### Description:\n",
    "\n",
    "This function 'calculate_min', helps with finding the minutes of the datetime object. As the datetime.delta object only gives out days and seconds, we used both of them to find the minutes\n",
    "\n",
    "\n",
    "##### Input Parameters:\n",
    "\n",
    "We calculate the minutes by passing the previous hastable values into the function.\n",
    "\n",
    "##### Output Parameters:\n",
    "\n",
    "A res_min map of minutes between the two transactions\n"
   ]
  },
  {
   "cell_type": "code",
   "execution_count": 27,
   "metadata": {},
   "outputs": [],
   "source": [
    "minutes_delta = []\n",
    "for x in res_min:\n",
    "    minutes_delta.append(0)\n",
    "    for i in x:\n",
    "        minutes_delta.append(i)"
   ]
  },
  {
   "cell_type": "markdown",
   "metadata": {},
   "source": [
    "##### Description:\n",
    "\n",
    "The above codeblock helps with minutes into a array input. Since it is a list of arrays, we use the first value of the array as 0 for the first transaction and rest else are appended until the end of each array making it the same length of the dataframe.\n",
    "\n",
    "##### Input Parameters:\n",
    "\n",
    "Only the res_min is passed as an input.\n",
    "\n",
    "##### Output Parameters:\n",
    "\n",
    "A list of minutes between the two transactions for each accountNumber.\n"
   ]
  },
  {
   "cell_type": "markdown",
   "metadata": {},
   "source": [
    " "
   ]
  },
  {
   "cell_type": "markdown",
   "metadata": {},
   "source": [
    "**Assumption:**\n",
    "    \n",
    "I assume multiswipe transactions happen in less than 2 minutes.\n",
    "\n",
    "\n",
    "From the above, it assumes that there are almost 17K Multiswipe transactions. Let's put it into the dataframe and calculate the actual number with another condition.\n",
    "\n",
    "I used this article to learn more about multiswipe transactions: [Fraud Detection]( https://www.capitalone.com/bank/security-fraud-protection/)"
   ]
  },
  {
   "cell_type": "code",
   "execution_count": 28,
   "metadata": {},
   "outputs": [
    {
     "data": {
      "text/plain": [
       "17370"
      ]
     },
     "execution_count": 28,
     "metadata": {},
     "output_type": "execute_result"
    }
   ],
   "source": [
    "count=0\n",
    "for x in minutes_delta:\n",
    "    if(x>0 and x<=2):\n",
    "        count+=1\n",
    "count"
   ]
  },
  {
   "cell_type": "code",
   "execution_count": 30,
   "metadata": {},
   "outputs": [],
   "source": [
    "new_df[\"multiswipeMinutes\"] = minutes_delta"
   ]
  },
  {
   "cell_type": "code",
   "execution_count": 31,
   "metadata": {},
   "outputs": [
    {
     "data": {
      "text/html": [
       "<div>\n",
       "<style scoped>\n",
       "    .dataframe tbody tr th:only-of-type {\n",
       "        vertical-align: middle;\n",
       "    }\n",
       "\n",
       "    .dataframe tbody tr th {\n",
       "        vertical-align: top;\n",
       "    }\n",
       "\n",
       "    .dataframe thead th {\n",
       "        text-align: right;\n",
       "    }\n",
       "</style>\n",
       "<table border=\"1\" class=\"dataframe\">\n",
       "  <thead>\n",
       "    <tr style=\"text-align: right;\">\n",
       "      <th></th>\n",
       "      <th>accountNumber</th>\n",
       "      <th>creditLimit</th>\n",
       "      <th>availableMoney</th>\n",
       "      <th>transactionDateTime</th>\n",
       "      <th>transactionAmount</th>\n",
       "      <th>merchantName</th>\n",
       "      <th>acqCountry</th>\n",
       "      <th>merchantCountryCode</th>\n",
       "      <th>posEntryMode</th>\n",
       "      <th>posConditionCode</th>\n",
       "      <th>merchantCategoryCode</th>\n",
       "      <th>transactionType</th>\n",
       "      <th>currentBalance</th>\n",
       "      <th>cardPresent</th>\n",
       "      <th>expirationDateKeyInMatch</th>\n",
       "      <th>isFraud</th>\n",
       "      <th>CVV Match</th>\n",
       "      <th>multiswipeMinutes</th>\n",
       "    </tr>\n",
       "  </thead>\n",
       "  <tbody>\n",
       "    <tr>\n",
       "      <th>0</th>\n",
       "      <td>737265056</td>\n",
       "      <td>5000</td>\n",
       "      <td>5000.0</td>\n",
       "      <td>2016-08-13 14:27:32</td>\n",
       "      <td>98.55</td>\n",
       "      <td>Uber</td>\n",
       "      <td>US</td>\n",
       "      <td>US</td>\n",
       "      <td>02</td>\n",
       "      <td>01</td>\n",
       "      <td>rideshare</td>\n",
       "      <td>PURCHASE</td>\n",
       "      <td>0.0</td>\n",
       "      <td>False</td>\n",
       "      <td>False</td>\n",
       "      <td>False</td>\n",
       "      <td>True</td>\n",
       "      <td>0.000000</td>\n",
       "    </tr>\n",
       "    <tr>\n",
       "      <th>1</th>\n",
       "      <td>737265056</td>\n",
       "      <td>5000</td>\n",
       "      <td>5000.0</td>\n",
       "      <td>2016-10-11 05:05:54</td>\n",
       "      <td>74.51</td>\n",
       "      <td>AMC #191138</td>\n",
       "      <td>US</td>\n",
       "      <td>US</td>\n",
       "      <td>09</td>\n",
       "      <td>01</td>\n",
       "      <td>entertainment</td>\n",
       "      <td>PURCHASE</td>\n",
       "      <td>0.0</td>\n",
       "      <td>True</td>\n",
       "      <td>False</td>\n",
       "      <td>False</td>\n",
       "      <td>True</td>\n",
       "      <td>84398.366667</td>\n",
       "    </tr>\n",
       "    <tr>\n",
       "      <th>2</th>\n",
       "      <td>737265056</td>\n",
       "      <td>5000</td>\n",
       "      <td>5000.0</td>\n",
       "      <td>2016-11-08 09:18:39</td>\n",
       "      <td>7.47</td>\n",
       "      <td>Play Store</td>\n",
       "      <td>US</td>\n",
       "      <td>US</td>\n",
       "      <td>09</td>\n",
       "      <td>01</td>\n",
       "      <td>mobileapps</td>\n",
       "      <td>PURCHASE</td>\n",
       "      <td>0.0</td>\n",
       "      <td>False</td>\n",
       "      <td>False</td>\n",
       "      <td>False</td>\n",
       "      <td>True</td>\n",
       "      <td>40572.750000</td>\n",
       "    </tr>\n",
       "    <tr>\n",
       "      <th>3</th>\n",
       "      <td>737265056</td>\n",
       "      <td>5000</td>\n",
       "      <td>5000.0</td>\n",
       "      <td>2016-12-10 02:14:50</td>\n",
       "      <td>7.47</td>\n",
       "      <td>Play Store</td>\n",
       "      <td>US</td>\n",
       "      <td>US</td>\n",
       "      <td>09</td>\n",
       "      <td>01</td>\n",
       "      <td>mobileapps</td>\n",
       "      <td>PURCHASE</td>\n",
       "      <td>0.0</td>\n",
       "      <td>False</td>\n",
       "      <td>False</td>\n",
       "      <td>False</td>\n",
       "      <td>True</td>\n",
       "      <td>45656.183333</td>\n",
       "    </tr>\n",
       "    <tr>\n",
       "      <th>4</th>\n",
       "      <td>830329091</td>\n",
       "      <td>5000</td>\n",
       "      <td>5000.0</td>\n",
       "      <td>2016-03-24 21:04:46</td>\n",
       "      <td>71.18</td>\n",
       "      <td>Tim Hortons #947751</td>\n",
       "      <td>US</td>\n",
       "      <td>US</td>\n",
       "      <td>02</td>\n",
       "      <td>01</td>\n",
       "      <td>fastfood</td>\n",
       "      <td>PURCHASE</td>\n",
       "      <td>0.0</td>\n",
       "      <td>True</td>\n",
       "      <td>False</td>\n",
       "      <td>False</td>\n",
       "      <td>True</td>\n",
       "      <td>0.000000</td>\n",
       "    </tr>\n",
       "  </tbody>\n",
       "</table>\n",
       "</div>"
      ],
      "text/plain": [
       "   accountNumber  creditLimit  availableMoney transactionDateTime  \\\n",
       "0      737265056         5000          5000.0 2016-08-13 14:27:32   \n",
       "1      737265056         5000          5000.0 2016-10-11 05:05:54   \n",
       "2      737265056         5000          5000.0 2016-11-08 09:18:39   \n",
       "3      737265056         5000          5000.0 2016-12-10 02:14:50   \n",
       "4      830329091         5000          5000.0 2016-03-24 21:04:46   \n",
       "\n",
       "   transactionAmount         merchantName acqCountry merchantCountryCode  \\\n",
       "0              98.55                 Uber         US                  US   \n",
       "1              74.51          AMC #191138         US                  US   \n",
       "2               7.47           Play Store         US                  US   \n",
       "3               7.47           Play Store         US                  US   \n",
       "4              71.18  Tim Hortons #947751         US                  US   \n",
       "\n",
       "  posEntryMode posConditionCode merchantCategoryCode transactionType  \\\n",
       "0           02               01            rideshare        PURCHASE   \n",
       "1           09               01        entertainment        PURCHASE   \n",
       "2           09               01           mobileapps        PURCHASE   \n",
       "3           09               01           mobileapps        PURCHASE   \n",
       "4           02               01             fastfood        PURCHASE   \n",
       "\n",
       "   currentBalance  cardPresent  expirationDateKeyInMatch  isFraud  CVV Match  \\\n",
       "0             0.0        False                     False    False       True   \n",
       "1             0.0         True                     False    False       True   \n",
       "2             0.0        False                     False    False       True   \n",
       "3             0.0        False                     False    False       True   \n",
       "4             0.0         True                     False    False       True   \n",
       "\n",
       "   multiswipeMinutes  \n",
       "0           0.000000  \n",
       "1       84398.366667  \n",
       "2       40572.750000  \n",
       "3       45656.183333  \n",
       "4           0.000000  "
      ]
     },
     "execution_count": 31,
     "metadata": {},
     "output_type": "execute_result"
    }
   ],
   "source": [
    "new_df.head()"
   ]
  },
  {
   "cell_type": "markdown",
   "metadata": {},
   "source": [
    "**Assumption:**\n",
    "    \n",
    "None of the multiswipe transactions should be a REVERSAL."
   ]
  },
  {
   "cell_type": "code",
   "execution_count": 33,
   "metadata": {},
   "outputs": [
    {
     "name": "stdout",
     "output_type": "stream",
     "text": [
      "2.5\n",
      "22181.68333333333\n",
      "0.75\n",
      "2.433333333333333\n",
      "1.7166666666666668\n",
      "1.2666666666666666\n",
      "2.833333333333333\n",
      "0.5666666666666667\n",
      "0.3\n",
      "0.7166666666666667\n"
     ]
    },
    {
     "data": {
      "text/plain": [
       "10"
      ]
     },
     "execution_count": 33,
     "metadata": {},
     "output_type": "execute_result"
    }
   ],
   "source": [
    "count=0\n",
    "for i in range(1,len(new_df)):\n",
    "    if(new_df.transactionAmount[i]==new_df.transactionAmount[i-1] and new_df.transactionType[i-1]==\"PURCHASE\" and new_df.transactionType[i]==\"REVERSAL\"):\n",
    "        count+=1\n",
    "        print(new_df.multiswipeMinutes[i])\n",
    "    if(count==10):\n",
    "        break\n",
    "count"
   ]
  },
  {
   "cell_type": "markdown",
   "metadata": {},
   "source": [
    "#### This ensures that the reversal may or may not happen within two minutes of time. Therefore, none of the multiswipe transactions should be a reversal"
   ]
  },
  {
   "cell_type": "markdown",
   "metadata": {},
   "source": [
    "Since there is a difference between the transactionTime, there will not be any duplicated values."
   ]
  },
  {
   "cell_type": "markdown",
   "metadata": {},
   "source": [
    "#### [5.5]\n",
    "#### Multi-swipe"
   ]
  },
  {
   "cell_type": "code",
   "execution_count": 36,
   "metadata": {},
   "outputs": [],
   "source": [
    "count=0\n",
    "amount = 0\n",
    "for i in range(1, len(new_df)):\n",
    "    if(new_df.multiswipeMinutes[i]>0 and new_df.multiswipeMinutes[i]<=2 and new_df.transactionType[i]!=\"REVERSAL\"):\n",
    "        count+=1\n",
    "        amount+=new_df.transactionAmount[i]"
   ]
  },
  {
   "cell_type": "markdown",
   "metadata": {},
   "source": [
    "##### Description:\n",
    "    \n",
    "Using a loop and conditional statements to gather the amount and count of the multiswipe transactions."
   ]
  },
  {
   "cell_type": "code",
   "execution_count": 38,
   "metadata": {},
   "outputs": [
    {
     "name": "stdout",
     "output_type": "stream",
     "text": [
      "No. of multiswipe transactions: 12925\n",
      "Total amount of the multiswipe transactions: 1878098.2800000052\n"
     ]
    }
   ],
   "source": [
    "print(\"No. of multiswipe transactions: {}\".format(count))\n",
    "print(\"Total amount of the multiswipe transactions: {}\".format(amount))"
   ]
  },
  {
   "cell_type": "code",
   "execution_count": 39,
   "metadata": {},
   "outputs": [
    {
     "data": {
      "text/plain": [
       "107720557.52999923"
      ]
     },
     "execution_count": 39,
     "metadata": {},
     "output_type": "execute_result"
    }
   ],
   "source": [
    "sum(new_df.transactionAmount)"
   ]
  },
  {
   "cell_type": "markdown",
   "metadata": {},
   "source": [
    "So almost 2% of the entire amount in the dataset are multiswipe transactions"
   ]
  },
  {
   "cell_type": "markdown",
   "metadata": {},
   "source": [
    "#### [5.6]\n",
    "#### Reversal"
   ]
  },
  {
   "cell_type": "code",
   "execution_count": 41,
   "metadata": {},
   "outputs": [],
   "source": [
    "count=0\n",
    "amount=0\n",
    "for i in range(1,len(new_df)):\n",
    "    if(new_df.transactionAmount[i]==new_df.transactionAmount[i-1] and new_df.transactionType[i-1]==\"PURCHASE\" and new_df.transactionType[i]==\"REVERSAL\"):\n",
    "        count+=1\n",
    "        amount+=new_df.transactionAmount[i]"
   ]
  },
  {
   "cell_type": "code",
   "execution_count": 42,
   "metadata": {},
   "outputs": [
    {
     "name": "stdout",
     "output_type": "stream",
     "text": [
      "No. of reversed transactions: 6064\n",
      "Total amount of the reversed transactions: 908034.4300000026\n"
     ]
    }
   ],
   "source": [
    "print(\"No. of reversed transactions: {}\".format(count))\n",
    "print(\"Total amount of the reversed transactions: {}\".format(amount))"
   ]
  },
  {
   "cell_type": "markdown",
   "metadata": {},
   "source": [
    "Almost 1% of the entire transaction amount of the dataset is reversed transactions"
   ]
  },
  {
   "cell_type": "markdown",
   "metadata": {},
   "source": [
    " "
   ]
  },
  {
   "cell_type": "markdown",
   "metadata": {},
   "source": [
    "### [6]\n",
    "\n",
    "### Final Feature Engineering"
   ]
  },
  {
   "cell_type": "code",
   "execution_count": 44,
   "metadata": {},
   "outputs": [],
   "source": [
    "FirstPurchase = []\n",
    "Vendor = []\n",
    "accntnum=new_df['accountNumber'].unique().tolist()\n",
    "for x in accntnum:\n",
    "    temp_df = new_df[new_df[\"accountNumber\"]==x].reset_index()\n",
    "    for i in range(len(temp_df)):\n",
    "        if temp_df.merchantName[i] in FirstPurchase:\n",
    "            Vendor.append(False)\n",
    "        else:\n",
    "            FirstPurchase.append(temp_df.merchantName[i])\n",
    "            Vendor.append(True)\n",
    "    "
   ]
  },
  {
   "cell_type": "markdown",
   "metadata": {},
   "source": [
    "##### Descripition\n",
    "\n",
    "The above performs whether the customer has ever bought anything from that vendor or not.\n",
    "\n",
    "**Assumption:** The first transaction is always a new transaction, if there is another transaction from the same vendor later on from the customer, it will append a False value.\n",
    "\n",
    "##### Input Parameters:\n",
    "\n",
    "Sliced Dataframe\n",
    "\n",
    "##### Output:\n",
    "\n",
    "A list of vendors whether they are first purchased vendors or not.\n",
    "\n",
    "**Suggestion:**\n",
    "\n",
    "Forgot writing the code  \n",
    "    \n",
    "    temp_df = new_df[new_df[\"accountNumber\"]==x]\n",
    "    \n",
    "    as \n",
    "    \n",
    "    temp_df = new_df[new_df[\"accountNumber\"]==x].reset_index()\n",
    "    \n",
    "Took one hour for troubleshooting. So if you are worrying why the indexes are not being assigned properly, then this is the reason why. \n"
   ]
  },
  {
   "cell_type": "code",
   "execution_count": 45,
   "metadata": {},
   "outputs": [],
   "source": [
    "new_df[\"FirstVendorPurchase\"] = Vendor"
   ]
  },
  {
   "cell_type": "markdown",
   "metadata": {},
   "source": [
    "#### [6.1]\n",
    "#### Marking the Multiswipe and Unknown transactions"
   ]
  },
  {
   "cell_type": "code",
   "execution_count": 34,
   "metadata": {},
   "outputs": [],
   "source": [
    "for i in range(len(new_df)):\n",
    "    if(new_df.multiswipeMinutes[i] <= 2 and new_df.multiswipeMinutes[i] >0):\n",
    "        if(new_df.transactionType[i]==\"REVERSAL\"): \n",
    "            if(new_df.transactionType[i]==\"\" or \"PURCHASE\"):\n",
    "                new_df.transactionType[i] = \"MULTISWIPE\""
   ]
  },
  {
   "cell_type": "code",
   "execution_count": 35,
   "metadata": {},
   "outputs": [],
   "source": [
    "for i in range(len(new_df)):\n",
    "    if(new_df.transactionType[i]==\"\"):\n",
    "            new_df.transactionType[i] = \"UNKNOWN\""
   ]
  },
  {
   "cell_type": "markdown",
   "metadata": {},
   "source": [
    " "
   ]
  },
  {
   "cell_type": "markdown",
   "metadata": {},
   "source": [
    "#### [6.2]\n",
    "#### Creating the columns sameCountry which has a bool value if the purchase was made in the same country or not"
   ]
  },
  {
   "cell_type": "code",
   "execution_count": 36,
   "metadata": {},
   "outputs": [],
   "source": [
    "new_df[\"sameCountry\"] = new_df[\"merchantCountryCode\"]==new_df[\"acqCountry\"]"
   ]
  },
  {
   "cell_type": "markdown",
   "metadata": {},
   "source": [
    "##### Dropping a few unnecessary Columns"
   ]
  },
  {
   "cell_type": "code",
   "execution_count": 37,
   "metadata": {},
   "outputs": [],
   "source": [
    "new_df = new_df.drop([\"acqCountry\", \"merchantCountryCode\", \"merchantName\"],1)"
   ]
  },
  {
   "cell_type": "markdown",
   "metadata": {},
   "source": [
    " "
   ]
  },
  {
   "cell_type": "markdown",
   "metadata": {},
   "source": [
    "Filling the null rows of the posEntryMode and posConditionCode with a variable '00'.\n",
    "\n",
    "**Explanation:**\n",
    "\n",
    "I chose them to be strings as opposed to be integers as my assumption of them being the card being inserted into the machine. This will help when encoding  the stuff and the classifier will not assume random weights"
   ]
  },
  {
   "cell_type": "code",
   "execution_count": 40,
   "metadata": {},
   "outputs": [],
   "source": [
    "for i in range(len(new_df)):\n",
    "    if(new_df.posEntryMode[i]==\"\"):\n",
    "            new_df.posEntryMode[i] = \"00\"\n",
    "            \n",
    "    if(new_df.posConditionCode[i]==\"\"):\n",
    "            new_df.posConditionCode[i] = \"00\""
   ]
  },
  {
   "cell_type": "code",
   "execution_count": 41,
   "metadata": {},
   "outputs": [],
   "source": [
    "account_number = new_df[\"accountNumber\"]"
   ]
  },
  {
   "cell_type": "markdown",
   "metadata": {},
   "source": [
    " "
   ]
  },
  {
   "cell_type": "markdown",
   "metadata": {},
   "source": [
    "#### [6.3]"
   ]
  },
  {
   "cell_type": "markdown",
   "metadata": {},
   "source": [
    "##### Dropping the final columns and making a pickle of the dataset for further use."
   ]
  },
  {
   "cell_type": "code",
   "execution_count": 42,
   "metadata": {},
   "outputs": [],
   "source": [
    "new_df = new_df.drop([\"accountNumber\", \"transactionDateTime\"], 1)"
   ]
  },
  {
   "cell_type": "code",
   "execution_count": 44,
   "metadata": {},
   "outputs": [],
   "source": [
    "new_df[\"accountNumber\"] = account_Number"
   ]
  },
  {
   "cell_type": "code",
   "execution_count": 45,
   "metadata": {},
   "outputs": [],
   "source": [
    "new_df.to_pickle(\"./final\")"
   ]
  },
  {
   "cell_type": "markdown",
   "metadata": {},
   "source": [
    "## [7] Final Thoughts and Conclusions:"
   ]
  },
  {
   "cell_type": "markdown",
   "metadata": {},
   "source": [
    "- Using my methods, there are 12925 multiswipe transactions and 6064 reversed transactions.\n",
    "- Total amount of the reversed transactions: 908034.43, which is almost 1% of the entire transactionAmount in the dataset.\n",
    "- Total amount of the multiswiped transactions: 1878098.28 which is almost 2% of the entire transactionAmount in the dataset.\n",
    "\n"
   ]
  }
 ],
 "metadata": {
  "kernelspec": {
   "display_name": "Python 3",
   "language": "python",
   "name": "python3"
  },
  "language_info": {
   "codemirror_mode": {
    "name": "ipython",
    "version": 3
   },
   "file_extension": ".py",
   "mimetype": "text/x-python",
   "name": "python",
   "nbconvert_exporter": "python",
   "pygments_lexer": "ipython3",
   "version": "3.8.8"
  }
 },
 "nbformat": 4,
 "nbformat_minor": 4
}
