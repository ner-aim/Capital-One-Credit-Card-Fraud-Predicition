{
 "cells": [
  {
   "cell_type": "markdown",
   "metadata": {},
   "source": [
    "### [1] Importing the libraries:"
   ]
  },
  {
   "cell_type": "code",
   "execution_count": 182,
   "metadata": {},
   "outputs": [],
   "source": [
    "import pandas as pd\n",
    "import numpy as np\n",
    "import json\n",
    "import shutup \n",
    "shutup.please()"
   ]
  },
  {
   "cell_type": "markdown",
   "metadata": {},
   "source": [
    "##### [1.1]\n",
    "##### What is importing:\n",
    "Importing is the process of extracting the libraries from Python and using it in your source environment.\n",
    "##### What are we importing:\n",
    "For the basic summary calculation, and exploring the data, we have used numpy, pandas, json, and shutup\n",
    "##### What is 'shutup':\n",
    "Shutup is a library for removing all sorts of warnings and annoying messages. This is not inbuilt in Python and has to be installed seperately. I found this randomly when searching for removing warnings. \n",
    "\n",
    "Once can install shutup by running the following codeblock.\n",
    "\n",
    "    !pip install shutup\n",
    "\n",
    "We are only using shutup.please() function as it is most useful for removing the warnings.\n",
    "Here is the link for the shutup library if you would like to read more:  [Shutup](https://github.com/polvoazul/shutup)\n",
    "       \n"
   ]
  },
  {
   "cell_type": "markdown",
   "metadata": {},
   "source": [
    "### [2] Reading the file"
   ]
  },
  {
   "cell_type": "code",
   "execution_count": 127,
   "metadata": {},
   "outputs": [],
   "source": [
    "df = pd.read_json(\"transactions.txt\", lines = True)"
   ]
  },
  {
   "cell_type": "markdown",
   "metadata": {},
   "source": [
    "#### [2.1]"
   ]
  },
  {
   "cell_type": "markdown",
   "metadata": {},
   "source": [
    "##### Description:\n",
    "We are reading the file using a pandas function called \"read_json\". It reads files in a JSON format.\n",
    "\n",
    "##### Input Parameters:\n",
    "The input parameters for the function are:\n",
    "\n",
    "The data which is stored in JSON format.\n",
    "\n",
    "The json is in the lines-delimited format. Hence we also pass the lines variable:\n",
    "        \n",
    "    lines=True\n",
    "Usually this is not required and the default is False.\n",
    "\n",
    "##### Output:\n",
    "The output for the read_json is a pandas DataFrame.\n",
    "\n",
    "##### Suggestion:\n",
    "\n",
    "Failed to read lines using:\n",
    "    \n",
    "    with open('data/nested_mix.json','r') as f:\n",
    "            data = json.loads(f.read())\n",
    "    \n",
    "    df = pd.json_normalize(data, record_path =['students'])\n",
    "    \n",
    "Pandas.read_json is much more powerful and easier to read json files.\n",
    "       "
   ]
  },
  {
   "cell_type": "markdown",
   "metadata": {},
   "source": [
    "### [3] Displaying the DataFrame"
   ]
  },
  {
   "cell_type": "code",
   "execution_count": 128,
   "metadata": {},
   "outputs": [],
   "source": [
    "pd.set_option('display.max_columns', None)"
   ]
  },
  {
   "cell_type": "code",
   "execution_count": 130,
   "metadata": {},
   "outputs": [
    {
     "data": {
      "text/html": [
       "<div>\n",
       "<style scoped>\n",
       "    .dataframe tbody tr th:only-of-type {\n",
       "        vertical-align: middle;\n",
       "    }\n",
       "\n",
       "    .dataframe tbody tr th {\n",
       "        vertical-align: top;\n",
       "    }\n",
       "\n",
       "    .dataframe thead th {\n",
       "        text-align: right;\n",
       "    }\n",
       "</style>\n",
       "<table border=\"1\" class=\"dataframe\">\n",
       "  <thead>\n",
       "    <tr style=\"text-align: right;\">\n",
       "      <th></th>\n",
       "      <th>accountNumber</th>\n",
       "      <th>customerId</th>\n",
       "      <th>creditLimit</th>\n",
       "      <th>availableMoney</th>\n",
       "      <th>transactionDateTime</th>\n",
       "      <th>transactionAmount</th>\n",
       "      <th>merchantName</th>\n",
       "      <th>acqCountry</th>\n",
       "      <th>merchantCountryCode</th>\n",
       "      <th>posEntryMode</th>\n",
       "      <th>posConditionCode</th>\n",
       "      <th>merchantCategoryCode</th>\n",
       "      <th>currentExpDate</th>\n",
       "      <th>accountOpenDate</th>\n",
       "      <th>dateOfLastAddressChange</th>\n",
       "      <th>cardCVV</th>\n",
       "      <th>enteredCVV</th>\n",
       "      <th>cardLast4Digits</th>\n",
       "      <th>transactionType</th>\n",
       "      <th>echoBuffer</th>\n",
       "      <th>currentBalance</th>\n",
       "      <th>merchantCity</th>\n",
       "      <th>merchantState</th>\n",
       "      <th>merchantZip</th>\n",
       "      <th>cardPresent</th>\n",
       "      <th>posOnPremises</th>\n",
       "      <th>recurringAuthInd</th>\n",
       "      <th>expirationDateKeyInMatch</th>\n",
       "      <th>isFraud</th>\n",
       "    </tr>\n",
       "  </thead>\n",
       "  <tbody>\n",
       "    <tr>\n",
       "      <th>0</th>\n",
       "      <td>737265056</td>\n",
       "      <td>737265056</td>\n",
       "      <td>5000</td>\n",
       "      <td>5000.0</td>\n",
       "      <td>2016-08-13T14:27:32</td>\n",
       "      <td>98.55</td>\n",
       "      <td>Uber</td>\n",
       "      <td>US</td>\n",
       "      <td>US</td>\n",
       "      <td>02</td>\n",
       "      <td>01</td>\n",
       "      <td>rideshare</td>\n",
       "      <td>06/2023</td>\n",
       "      <td>2015-03-14</td>\n",
       "      <td>2015-03-14</td>\n",
       "      <td>414</td>\n",
       "      <td>414</td>\n",
       "      <td>1803</td>\n",
       "      <td>PURCHASE</td>\n",
       "      <td></td>\n",
       "      <td>0.0</td>\n",
       "      <td></td>\n",
       "      <td></td>\n",
       "      <td></td>\n",
       "      <td>False</td>\n",
       "      <td></td>\n",
       "      <td></td>\n",
       "      <td>False</td>\n",
       "      <td>False</td>\n",
       "    </tr>\n",
       "    <tr>\n",
       "      <th>1</th>\n",
       "      <td>737265056</td>\n",
       "      <td>737265056</td>\n",
       "      <td>5000</td>\n",
       "      <td>5000.0</td>\n",
       "      <td>2016-10-11T05:05:54</td>\n",
       "      <td>74.51</td>\n",
       "      <td>AMC #191138</td>\n",
       "      <td>US</td>\n",
       "      <td>US</td>\n",
       "      <td>09</td>\n",
       "      <td>01</td>\n",
       "      <td>entertainment</td>\n",
       "      <td>02/2024</td>\n",
       "      <td>2015-03-14</td>\n",
       "      <td>2015-03-14</td>\n",
       "      <td>486</td>\n",
       "      <td>486</td>\n",
       "      <td>767</td>\n",
       "      <td>PURCHASE</td>\n",
       "      <td></td>\n",
       "      <td>0.0</td>\n",
       "      <td></td>\n",
       "      <td></td>\n",
       "      <td></td>\n",
       "      <td>True</td>\n",
       "      <td></td>\n",
       "      <td></td>\n",
       "      <td>False</td>\n",
       "      <td>False</td>\n",
       "    </tr>\n",
       "    <tr>\n",
       "      <th>2</th>\n",
       "      <td>737265056</td>\n",
       "      <td>737265056</td>\n",
       "      <td>5000</td>\n",
       "      <td>5000.0</td>\n",
       "      <td>2016-11-08T09:18:39</td>\n",
       "      <td>7.47</td>\n",
       "      <td>Play Store</td>\n",
       "      <td>US</td>\n",
       "      <td>US</td>\n",
       "      <td>09</td>\n",
       "      <td>01</td>\n",
       "      <td>mobileapps</td>\n",
       "      <td>08/2025</td>\n",
       "      <td>2015-03-14</td>\n",
       "      <td>2015-03-14</td>\n",
       "      <td>486</td>\n",
       "      <td>486</td>\n",
       "      <td>767</td>\n",
       "      <td>PURCHASE</td>\n",
       "      <td></td>\n",
       "      <td>0.0</td>\n",
       "      <td></td>\n",
       "      <td></td>\n",
       "      <td></td>\n",
       "      <td>False</td>\n",
       "      <td></td>\n",
       "      <td></td>\n",
       "      <td>False</td>\n",
       "      <td>False</td>\n",
       "    </tr>\n",
       "    <tr>\n",
       "      <th>3</th>\n",
       "      <td>737265056</td>\n",
       "      <td>737265056</td>\n",
       "      <td>5000</td>\n",
       "      <td>5000.0</td>\n",
       "      <td>2016-12-10T02:14:50</td>\n",
       "      <td>7.47</td>\n",
       "      <td>Play Store</td>\n",
       "      <td>US</td>\n",
       "      <td>US</td>\n",
       "      <td>09</td>\n",
       "      <td>01</td>\n",
       "      <td>mobileapps</td>\n",
       "      <td>08/2025</td>\n",
       "      <td>2015-03-14</td>\n",
       "      <td>2015-03-14</td>\n",
       "      <td>486</td>\n",
       "      <td>486</td>\n",
       "      <td>767</td>\n",
       "      <td>PURCHASE</td>\n",
       "      <td></td>\n",
       "      <td>0.0</td>\n",
       "      <td></td>\n",
       "      <td></td>\n",
       "      <td></td>\n",
       "      <td>False</td>\n",
       "      <td></td>\n",
       "      <td></td>\n",
       "      <td>False</td>\n",
       "      <td>False</td>\n",
       "    </tr>\n",
       "    <tr>\n",
       "      <th>4</th>\n",
       "      <td>830329091</td>\n",
       "      <td>830329091</td>\n",
       "      <td>5000</td>\n",
       "      <td>5000.0</td>\n",
       "      <td>2016-03-24T21:04:46</td>\n",
       "      <td>71.18</td>\n",
       "      <td>Tim Hortons #947751</td>\n",
       "      <td>US</td>\n",
       "      <td>US</td>\n",
       "      <td>02</td>\n",
       "      <td>01</td>\n",
       "      <td>fastfood</td>\n",
       "      <td>10/2029</td>\n",
       "      <td>2015-08-06</td>\n",
       "      <td>2015-08-06</td>\n",
       "      <td>885</td>\n",
       "      <td>885</td>\n",
       "      <td>3143</td>\n",
       "      <td>PURCHASE</td>\n",
       "      <td></td>\n",
       "      <td>0.0</td>\n",
       "      <td></td>\n",
       "      <td></td>\n",
       "      <td></td>\n",
       "      <td>True</td>\n",
       "      <td></td>\n",
       "      <td></td>\n",
       "      <td>False</td>\n",
       "      <td>False</td>\n",
       "    </tr>\n",
       "  </tbody>\n",
       "</table>\n",
       "</div>"
      ],
      "text/plain": [
       "   accountNumber  customerId  creditLimit  availableMoney  \\\n",
       "0      737265056   737265056         5000          5000.0   \n",
       "1      737265056   737265056         5000          5000.0   \n",
       "2      737265056   737265056         5000          5000.0   \n",
       "3      737265056   737265056         5000          5000.0   \n",
       "4      830329091   830329091         5000          5000.0   \n",
       "\n",
       "   transactionDateTime  transactionAmount         merchantName acqCountry  \\\n",
       "0  2016-08-13T14:27:32              98.55                 Uber         US   \n",
       "1  2016-10-11T05:05:54              74.51          AMC #191138         US   \n",
       "2  2016-11-08T09:18:39               7.47           Play Store         US   \n",
       "3  2016-12-10T02:14:50               7.47           Play Store         US   \n",
       "4  2016-03-24T21:04:46              71.18  Tim Hortons #947751         US   \n",
       "\n",
       "  merchantCountryCode posEntryMode posConditionCode merchantCategoryCode  \\\n",
       "0                  US           02               01            rideshare   \n",
       "1                  US           09               01        entertainment   \n",
       "2                  US           09               01           mobileapps   \n",
       "3                  US           09               01           mobileapps   \n",
       "4                  US           02               01             fastfood   \n",
       "\n",
       "  currentExpDate accountOpenDate dateOfLastAddressChange  cardCVV  enteredCVV  \\\n",
       "0        06/2023      2015-03-14              2015-03-14      414         414   \n",
       "1        02/2024      2015-03-14              2015-03-14      486         486   \n",
       "2        08/2025      2015-03-14              2015-03-14      486         486   \n",
       "3        08/2025      2015-03-14              2015-03-14      486         486   \n",
       "4        10/2029      2015-08-06              2015-08-06      885         885   \n",
       "\n",
       "   cardLast4Digits transactionType echoBuffer  currentBalance merchantCity  \\\n",
       "0             1803        PURCHASE                        0.0                \n",
       "1              767        PURCHASE                        0.0                \n",
       "2              767        PURCHASE                        0.0                \n",
       "3              767        PURCHASE                        0.0                \n",
       "4             3143        PURCHASE                        0.0                \n",
       "\n",
       "  merchantState merchantZip  cardPresent posOnPremises recurringAuthInd  \\\n",
       "0                                  False                                  \n",
       "1                                   True                                  \n",
       "2                                  False                                  \n",
       "3                                  False                                  \n",
       "4                                   True                                  \n",
       "\n",
       "   expirationDateKeyInMatch  isFraud  \n",
       "0                     False    False  \n",
       "1                     False    False  \n",
       "2                     False    False  \n",
       "3                     False    False  \n",
       "4                     False    False  "
      ]
     },
     "execution_count": 130,
     "metadata": {},
     "output_type": "execute_result"
    }
   ],
   "source": [
    "df.head()"
   ]
  },
  {
   "cell_type": "markdown",
   "metadata": {},
   "source": [
    "#### [3.1]\n",
    "##### Description:\n",
    "We are using the head function to display the dataframe. An additonal pandas option is used to display all the columns as we are trying to figure out the parameters.\n",
    "\n",
    "##### Input Parameters:\n",
    "The dataframe and the pandas.set_option variable with the following arguments.\n",
    "\n",
    "    'display.max_columns'\n",
    "    None\n",
    "##### Output:\n",
    "\n",
    "The Pandas DataFrame object with all the columns visible. "
   ]
  },
  {
   "cell_type": "markdown",
   "metadata": {},
   "source": [
    "  "
   ]
  },
  {
   "cell_type": "markdown",
   "metadata": {},
   "source": [
    "### [4] Data Exploration and summary statistics"
   ]
  },
  {
   "cell_type": "markdown",
   "metadata": {},
   "source": [
    " "
   ]
  },
  {
   "cell_type": "markdown",
   "metadata": {},
   "source": [
    "#### [4.1] Finding  the number of records and fields in each record"
   ]
  },
  {
   "cell_type": "code",
   "execution_count": 131,
   "metadata": {},
   "outputs": [
    {
     "data": {
      "text/plain": [
       "(786363, 29)"
      ]
     },
     "execution_count": 131,
     "metadata": {},
     "output_type": "execute_result"
    }
   ],
   "source": [
    "df.shape"
   ]
  },
  {
   "cell_type": "markdown",
   "metadata": {},
   "source": [
    "##### Description:\n",
    "This is given by the shape of the data. The number of records is given by the columns of the shape and fields in each record is given by the rows of the shape.\n",
    "\n",
    "##### Input Parameters:\n",
    "Dataframe and the shape attribute.\n",
    "\n",
    "##### Output:\n",
    "Number of records in the dataframe are: 29\n",
    "\n",
    "Number of fields in each record: 786363"
   ]
  },
  {
   "cell_type": "markdown",
   "metadata": {},
   "source": [
    " "
   ]
  },
  {
   "cell_type": "markdown",
   "metadata": {},
   "source": [
    "#### [4.2] Addtional summary statistics for each column"
   ]
  },
  {
   "cell_type": "markdown",
   "metadata": {},
   "source": [
    " \n",
    "    "
   ]
  },
  {
   "cell_type": "markdown",
   "metadata": {},
   "source": [
    "Since the account number is a record which should not be having any other statistic than the unique value, I assume there will not be null, minimum or maximum."
   ]
  },
  {
   "cell_type": "code",
   "execution_count": 134,
   "metadata": {},
   "outputs": [
    {
     "name": "stdout",
     "output_type": "stream",
     "text": [
      "5000\n"
     ]
    }
   ],
   "source": [
    "print(len(df[\"accountNumber\"].unique()))"
   ]
  },
  {
   "cell_type": "markdown",
   "metadata": {},
   "source": [
    "##### Description:\n",
    "The above outputs the number of unique customers in the dataframe. \n",
    "\n",
    "##### Input Parameters:\n",
    "Unique Function, The accountNumber record\n",
    "\n",
    "##### Output:\n",
    "\n",
    "Length of the unique number of records\n",
    "\n",
    "\n",
    "\n",
    "Here there are 5000 unique customers in the dataframe."
   ]
  },
  {
   "cell_type": "markdown",
   "metadata": {},
   "source": [
    " "
   ]
  },
  {
   "cell_type": "markdown",
   "metadata": {},
   "source": [
    "#### [4.3]\n",
    "**Assumption:** Comparing the customerId and AccountNumber as my assumption for the class is they both are the same."
   ]
  },
  {
   "cell_type": "code",
   "execution_count": 158,
   "metadata": {},
   "outputs": [
    {
     "name": "stdout",
     "output_type": "stream",
     "text": [
      "786363\n"
     ]
    }
   ],
   "source": [
    "count = 0\n",
    "for i in range(len(df)):\n",
    "    if(df.customerId[i]==df.accountNumber[i]):\n",
    "        count+=1\n",
    "print(count)"
   ]
  },
  {
   "cell_type": "markdown",
   "metadata": {},
   "source": [
    "##### Description:\n",
    "Just as a check, the customerId is the same as the accountNumber, so it can be dropped in our further usage. \n",
    "\n",
    "##### Input Parameters:\n",
    "The Length of the dataframe,\n",
    "\n",
    "The customerID record,\n",
    "\n",
    "The account number record\n",
    "\n",
    "##### Output:\n",
    "\n",
    "The number of record of equal CustomerID and AccountNumber.\n",
    "\n",
    "\n",
    "\n",
    "\n",
    "Here every account number and the customerId is the same which is 786363. The customerId will be dropped in the further process"
   ]
  },
  {
   "cell_type": "markdown",
   "metadata": {},
   "source": [
    " "
   ]
  },
  {
   "cell_type": "markdown",
   "metadata": {},
   "source": [
    "#### [4.4]"
   ]
  },
  {
   "cell_type": "markdown",
   "metadata": {},
   "source": [
    "#### Unique Function:\n",
    "We are using the unique function for the next records.\n",
    "\n",
    "##### Description:\n",
    "For different customers, it is observerd that there can be same CVVs but it because of the limited combinations, only 899 CVVs are found.\n",
    "\n",
    "##### Input:\n",
    "The record is passed onto the unique function.\n",
    "\n",
    "##### Output:\n",
    "The length of Unique CVV."
   ]
  },
  {
   "cell_type": "markdown",
   "metadata": {},
   "source": [
    "#### [4.4.1]"
   ]
  },
  {
   "cell_type": "markdown",
   "metadata": {},
   "source": [
    "##### Let's check the unique number of CVV. \n",
    "\n",
    "**Assumption:** There will be <=900 unique CVVs. 9x10x10, assuming the first number doesn't start with a 0. There will be more enteredCVV because that column will be helpful for identifying fraud."
   ]
  },
  {
   "cell_type": "code",
   "execution_count": 191,
   "metadata": {},
   "outputs": [
    {
     "name": "stdout",
     "output_type": "stream",
     "text": [
      "899\n"
     ]
    }
   ],
   "source": [
    "print(len(df.cardCVV.unique()))"
   ]
  },
  {
   "cell_type": "code",
   "execution_count": 192,
   "metadata": {},
   "outputs": [
    {
     "name": "stdout",
     "output_type": "stream",
     "text": [
      "976\n"
     ]
    }
   ],
   "source": [
    "print(len(df.enteredCVV.unique()))"
   ]
  },
  {
   "cell_type": "code",
   "execution_count": 150,
   "metadata": {},
   "outputs": [
    {
     "data": {
      "text/plain": [
       "5245"
      ]
     },
     "execution_count": 150,
     "metadata": {},
     "output_type": "execute_result"
    }
   ],
   "source": [
    "len(df.cardLast4Digits.unique())"
   ]
  },
  {
   "cell_type": "markdown",
   "metadata": {},
   "source": [
    "#### Result:\n",
    "This is an interesting result as it shows that there are more than 5000 cards. So it is possible that a few customers have different cards with different credit limits"
   ]
  },
  {
   "cell_type": "code",
   "execution_count": 193,
   "metadata": {},
   "outputs": [
    {
     "data": {
      "text/plain": [
       "776637"
      ]
     },
     "execution_count": 193,
     "metadata": {},
     "output_type": "execute_result"
    }
   ],
   "source": [
    "len(df.transactionDateTime.unique())"
   ]
  },
  {
   "cell_type": "markdown",
   "metadata": {},
   "source": [
    "Most transaction times are unique except for the reversal and multiswipes"
   ]
  },
  {
   "cell_type": "markdown",
   "metadata": {},
   "source": [
    " "
   ]
  },
  {
   "cell_type": "markdown",
   "metadata": {},
   "source": [
    "#### [4.5]"
   ]
  },
  {
   "cell_type": "markdown",
   "metadata": {},
   "source": [
    "#### Describe and sum of is na Function:\n",
    "We are using the Describe function and the summation of the na values for the records.\n",
    "\n",
    "\n",
    "\n",
    "##### Description:\n",
    "Outputtng the summary statsitics along with the NA values with for the following records\n",
    "    \n",
    "    availableMoney\n",
    "    transactionAmount\n",
    "    creditLimit\n",
    "\n",
    "##### Input:\n",
    "The record is passed onto the describe function. \n",
    "\n",
    "We use the record and apply the summation for isna() function.\n",
    "\n",
    "##### Output:\n",
    "The count, mean, standard deviation, minimum, maximum, percentile of Unique CVV.\n",
    "\n",
    "The na values for the records"
   ]
  },
  {
   "cell_type": "code",
   "execution_count": 147,
   "metadata": {},
   "outputs": [
    {
     "data": {
      "text/plain": [
       "count    786363.000000\n",
       "mean       6250.725369\n",
       "std        8880.783989\n",
       "min       -1005.630000\n",
       "25%        1077.420000\n",
       "50%        3184.860000\n",
       "75%        7500.000000\n",
       "max       50000.000000\n",
       "Name: availableMoney, dtype: float64"
      ]
     },
     "execution_count": 147,
     "metadata": {},
     "output_type": "execute_result"
    }
   ],
   "source": [
    "df[\"availableMoney\"].describe()"
   ]
  },
  {
   "cell_type": "code",
   "execution_count": 186,
   "metadata": {},
   "outputs": [
    {
     "data": {
      "text/plain": [
       "0"
      ]
     },
     "execution_count": 186,
     "metadata": {},
     "output_type": "execute_result"
    }
   ],
   "source": [
    "sum(df.availableMoney.isna())"
   ]
  },
  {
   "cell_type": "code",
   "execution_count": 139,
   "metadata": {},
   "outputs": [
    {
     "data": {
      "text/plain": [
       "count    786363.000000\n",
       "mean        136.985791\n",
       "std         147.725569\n",
       "min           0.000000\n",
       "25%          33.650000\n",
       "50%          87.900000\n",
       "75%         191.480000\n",
       "max        2011.540000\n",
       "Name: transactionAmount, dtype: float64"
      ]
     },
     "execution_count": 139,
     "metadata": {},
     "output_type": "execute_result"
    }
   ],
   "source": [
    "df[\"transactionAmount\"].describe()"
   ]
  },
  {
   "cell_type": "code",
   "execution_count": 187,
   "metadata": {},
   "outputs": [
    {
     "data": {
      "text/plain": [
       "0"
      ]
     },
     "execution_count": 187,
     "metadata": {},
     "output_type": "execute_result"
    }
   ],
   "source": [
    "sum(df.transactionAmount.isna())"
   ]
  },
  {
   "cell_type": "code",
   "execution_count": 138,
   "metadata": {},
   "outputs": [
    {
     "data": {
      "text/plain": [
       "count    786363.000000\n",
       "mean      10759.464459\n",
       "std       11636.174890\n",
       "min         250.000000\n",
       "25%        5000.000000\n",
       "50%        7500.000000\n",
       "75%       15000.000000\n",
       "max       50000.000000\n",
       "Name: creditLimit, dtype: float64"
      ]
     },
     "execution_count": 138,
     "metadata": {},
     "output_type": "execute_result"
    }
   ],
   "source": [
    "df[\"creditLimit\"].describe()"
   ]
  },
  {
   "cell_type": "code",
   "execution_count": 188,
   "metadata": {},
   "outputs": [
    {
     "data": {
      "text/plain": [
       "0"
      ]
     },
     "execution_count": 188,
     "metadata": {},
     "output_type": "execute_result"
    }
   ],
   "source": [
    "sum(df.creditLimit.isna())"
   ]
  },
  {
   "cell_type": "markdown",
   "metadata": {},
   "source": [
    "All of the above values have the same NA values, which is zero."
   ]
  },
  {
   "cell_type": "markdown",
   "metadata": {},
   "source": [
    " "
   ]
  },
  {
   "cell_type": "markdown",
   "metadata": {},
   "source": [
    "Although, the Creditlimit is not sorted for every customer. Lets use the groupby function for a clear measure of the creditLimit for each customer."
   ]
  },
  {
   "cell_type": "code",
   "execution_count": 144,
   "metadata": {},
   "outputs": [],
   "source": [
    "creditLimit_df = df.groupby(\"accountNumber\")[\"creditLimit\"].mean().to_frame()"
   ]
  },
  {
   "cell_type": "markdown",
   "metadata": {},
   "source": [
    "##### [4.5.1]"
   ]
  },
  {
   "cell_type": "markdown",
   "metadata": {},
   "source": [
    "##### Description:\n",
    "Using the groupby function for grouping according to the mean creditLimit for the number of transactions of a customer.\n",
    "\n",
    "##### Input:\n",
    "The records passed into the groupby function:\n",
    "    \n",
    "    accountNumber\n",
    "    creditLimit\n",
    "\n",
    "The mean function is used:\n",
    "    \n",
    "##### Output:\n",
    " A dataframe which is grouped according to the accountNumber"
   ]
  },
  {
   "cell_type": "code",
   "execution_count": 146,
   "metadata": {},
   "outputs": [
    {
     "data": {
      "text/plain": [
       "count     5000.000000\n",
       "mean     10149.150000\n",
       "std      10816.765564\n",
       "min        250.000000\n",
       "25%       5000.000000\n",
       "50%       7500.000000\n",
       "75%      15000.000000\n",
       "max      50000.000000\n",
       "Name: creditLimit, dtype: float64"
      ]
     },
     "execution_count": 146,
     "metadata": {},
     "output_type": "execute_result"
    }
   ],
   "source": [
    "creditLimit_df.creditLimit.describe()"
   ]
  },
  {
   "cell_type": "markdown",
   "metadata": {},
   "source": [
    " \n",
    " "
   ]
  },
  {
   "cell_type": "markdown",
   "metadata": {},
   "source": [
    "This is a better representation for the creditLimit for the customer."
   ]
  },
  {
   "cell_type": "markdown",
   "metadata": {},
   "source": [
    " "
   ]
  },
  {
   "cell_type": "markdown",
   "metadata": {},
   "source": [
    "#### [4.6]"
   ]
  },
  {
   "cell_type": "markdown",
   "metadata": {},
   "source": [
    "**Assumption:** The NA values in the a few records are hidden and should be used a different method to find."
   ]
  },
  {
   "cell_type": "markdown",
   "metadata": {},
   "source": [
    "#### Value Counts:\n",
    "We are using the Value Counts function for identifying the null values in certain records.\n",
    "\n",
    "\n",
    "\n",
    "##### Description:\n",
    "Outputting the  NA values for the records\n",
    "    \n",
    "\n",
    "##### Input:\n",
    "The record is passed into the value_counts function\n",
    "##### Output:\n",
    "The number of  na values for each record"
   ]
  },
  {
   "cell_type": "code",
   "execution_count": 152,
   "metadata": {},
   "outputs": [
    {
     "data": {
      "text/plain": [
       "PURCHASE                745193\n",
       "REVERSAL                 20303\n",
       "ADDRESS_VERIFICATION     20169\n",
       "                           698\n",
       "Name: transactionType, dtype: int64"
      ]
     },
     "execution_count": 152,
     "metadata": {},
     "output_type": "execute_result"
    }
   ],
   "source": [
    "df[\"transactionType\"].value_counts()"
   ]
  },
  {
   "cell_type": "markdown",
   "metadata": {},
   "source": [
    "There are a few transactions that are marked null. Which shows that there are almost 698 rows of transactions which are marked nulls. Let's find out how many customers have these sets of unkown transactions."
   ]
  },
  {
   "cell_type": "code",
   "execution_count": 157,
   "metadata": {},
   "outputs": [
    {
     "data": {
      "text/plain": [
       "449"
      ]
     },
     "execution_count": 157,
     "metadata": {},
     "output_type": "execute_result"
    }
   ],
   "source": [
    "len(unknownTransactionType_df.accountNumber.unique())"
   ]
  },
  {
   "cell_type": "markdown",
   "metadata": {},
   "source": [
    "This shows that a customer who has atleast one unknown transaction, can also be traced again for another unknown transaction."
   ]
  },
  {
   "cell_type": "code",
   "execution_count": 200,
   "metadata": {},
   "outputs": [
    {
     "data": {
      "text/plain": [
       "US     778511\n",
       "MEX      3143\n",
       "CAN      2426\n",
       "PR       1559\n",
       "          724\n",
       "Name: merchantCountryCode, dtype: int64"
      ]
     },
     "execution_count": 200,
     "metadata": {},
     "output_type": "execute_result"
    }
   ],
   "source": [
    "df.merchantCountryCode.value_counts()"
   ]
  },
  {
   "cell_type": "markdown",
   "metadata": {},
   "source": [
    "There are 754 null values in merchantCategoryCode"
   ]
  },
  {
   "cell_type": "code",
   "execution_count": 202,
   "metadata": {},
   "outputs": [
    {
     "data": {
      "text/plain": [
       "US     774709\n",
       "         4562\n",
       "MEX      3130\n",
       "CAN      2424\n",
       "PR       1538\n",
       "Name: acqCountry, dtype: int64"
      ]
     },
     "execution_count": 202,
     "metadata": {},
     "output_type": "execute_result"
    }
   ],
   "source": [
    "df.acqCountry.value_counts()"
   ]
  },
  {
   "cell_type": "markdown",
   "metadata": {},
   "source": [
    "There are 4562 null values in acqCountry"
   ]
  },
  {
   "cell_type": "code",
   "execution_count": 197,
   "metadata": {},
   "outputs": [
    {
     "data": {
      "text/plain": [
       "05    315035\n",
       "09    236481\n",
       "02    195934\n",
       "90     19576\n",
       "80     15283\n",
       "        4054\n",
       "Name: posEntryMode, dtype: int64"
      ]
     },
     "execution_count": 197,
     "metadata": {},
     "output_type": "execute_result"
    }
   ],
   "source": [
    "df.posEntryMode.value_counts()"
   ]
  },
  {
   "cell_type": "markdown",
   "metadata": {},
   "source": [
    "There are 4054 null values in posEntryMode"
   ]
  },
  {
   "cell_type": "code",
   "execution_count": 204,
   "metadata": {},
   "outputs": [
    {
     "data": {
      "text/plain": [
       "01    628787\n",
       "08    149634\n",
       "99      7533\n",
       "         409\n",
       "Name: posConditionCode, dtype: int64"
      ]
     },
     "execution_count": 204,
     "metadata": {},
     "output_type": "execute_result"
    }
   ],
   "source": [
    "df.posConditionCode.value_counts()"
   ]
  },
  {
   "cell_type": "code",
   "execution_count": 205,
   "metadata": {},
   "outputs": [
    {
     "data": {
      "text/plain": [
       "online_retail           202156\n",
       "fastfood                112138\n",
       "entertainment            80098\n",
       "food                     75490\n",
       "online_gifts             66238\n",
       "rideshare                51136\n",
       "hotels                   34097\n",
       "fuel                     23910\n",
       "subscriptions            22901\n",
       "auto                     21651\n",
       "health                   19092\n",
       "personal care            18964\n",
       "airline                  15412\n",
       "mobileapps               14990\n",
       "online_subscriptions     11067\n",
       "furniture                 7432\n",
       "food_delivery             6000\n",
       "gym                       2209\n",
       "cable/phone               1382\n",
       "Name: merchantCategoryCode, dtype: int64"
      ]
     },
     "execution_count": 205,
     "metadata": {},
     "output_type": "execute_result"
    }
   ],
   "source": [
    "df.merchantCategoryCode.value_counts()"
   ]
  },
  {
   "cell_type": "markdown",
   "metadata": {},
   "source": [
    " "
   ]
  },
  {
   "cell_type": "markdown",
   "metadata": {},
   "source": [
    "No Nulls in merchantCategoryCode"
   ]
  },
  {
   "cell_type": "code",
   "execution_count": 206,
   "metadata": {},
   "outputs": [
    {
     "data": {
      "text/plain": [
       "03/2029    5103\n",
       "08/2024    5087\n",
       "10/2023    5075\n",
       "05/2027    5063\n",
       "01/2021    5041\n",
       "           ... \n",
       "02/2033    4276\n",
       "02/2029    4260\n",
       "02/2026    4234\n",
       "12/2019    4028\n",
       "08/2033    1874\n",
       "Name: currentExpDate, Length: 165, dtype: int64"
      ]
     },
     "execution_count": 206,
     "metadata": {},
     "output_type": "execute_result"
    }
   ],
   "source": [
    "df.currentExpDate.value_counts()"
   ]
  },
  {
   "cell_type": "markdown",
   "metadata": {},
   "source": [
    " "
   ]
  },
  {
   "cell_type": "markdown",
   "metadata": {},
   "source": [
    "Didn't expect that there would be similar expiration dates"
   ]
  },
  {
   "cell_type": "code",
   "execution_count": 207,
   "metadata": {},
   "outputs": [
    {
     "data": {
      "text/plain": [
       "2014-06-21    33623\n",
       "2014-09-30    13335\n",
       "2014-05-22    11353\n",
       "2012-10-09    10867\n",
       "2014-10-02    10653\n",
       "              ...  \n",
       "2014-04-18        1\n",
       "2011-10-16        1\n",
       "2006-12-22        1\n",
       "2006-05-12        1\n",
       "2009-11-27        1\n",
       "Name: accountOpenDate, Length: 1820, dtype: int64"
      ]
     },
     "execution_count": 207,
     "metadata": {},
     "output_type": "execute_result"
    }
   ],
   "source": [
    "df.accountOpenDate.value_counts()"
   ]
  },
  {
   "cell_type": "markdown",
   "metadata": {},
   "source": [
    " "
   ]
  },
  {
   "cell_type": "markdown",
   "metadata": {},
   "source": [
    "No Null Values in accountOpenDate"
   ]
  },
  {
   "cell_type": "code",
   "execution_count": 209,
   "metadata": {},
   "outputs": [
    {
     "data": {
      "text/plain": [
       "2016-03-15    3819\n",
       "2016-01-06    3740\n",
       "2016-01-04    3558\n",
       "2016-06-08    3355\n",
       "2016-04-04    3194\n",
       "              ... \n",
       "2009-11-27       1\n",
       "2012-02-17       1\n",
       "2009-05-14       1\n",
       "2011-10-16       1\n",
       "2011-05-09       1\n",
       "Name: dateOfLastAddressChange, Length: 2184, dtype: int64"
      ]
     },
     "execution_count": 209,
     "metadata": {},
     "output_type": "execute_result"
    }
   ],
   "source": [
    "df.dateOfLastAddressChange.value_counts()"
   ]
  },
  {
   "cell_type": "markdown",
   "metadata": {},
   "source": [
    " "
   ]
  },
  {
   "cell_type": "markdown",
   "metadata": {},
   "source": [
    "No Null Values"
   ]
  },
  {
   "cell_type": "code",
   "execution_count": 210,
   "metadata": {},
   "outputs": [
    {
     "data": {
      "text/plain": [
       "0.00       33678\n",
       "8.46          26\n",
       "5.67          19\n",
       "29.42         19\n",
       "59.68         18\n",
       "           ...  \n",
       "5075.51        1\n",
       "3869.28        1\n",
       "2350.72        1\n",
       "3078.01        1\n",
       "738.50         1\n",
       "Name: currentBalance, Length: 487318, dtype: int64"
      ]
     },
     "execution_count": 210,
     "metadata": {},
     "output_type": "execute_result"
    }
   ],
   "source": [
    "df.currentBalance.value_counts()"
   ]
  },
  {
   "cell_type": "markdown",
   "metadata": {},
   "source": [
    " "
   ]
  },
  {
   "cell_type": "markdown",
   "metadata": {},
   "source": [
    " \n",
    "No null values"
   ]
  },
  {
   "cell_type": "code",
   "execution_count": 212,
   "metadata": {},
   "outputs": [
    {
     "data": {
      "text/plain": [
       "False    433495\n",
       "True     352868\n",
       "Name: cardPresent, dtype: int64"
      ]
     },
     "execution_count": 212,
     "metadata": {},
     "output_type": "execute_result"
    }
   ],
   "source": [
    "df.cardPresent.value_counts()"
   ]
  },
  {
   "cell_type": "markdown",
   "metadata": {},
   "source": [
    " "
   ]
  },
  {
   "cell_type": "markdown",
   "metadata": {},
   "source": [
    "There are no null values in cardPresent"
   ]
  },
  {
   "cell_type": "code",
   "execution_count": 213,
   "metadata": {},
   "outputs": [
    {
     "data": {
      "text/plain": [
       "False    785320\n",
       "True       1043\n",
       "Name: expirationDateKeyInMatch, dtype: int64"
      ]
     },
     "execution_count": 213,
     "metadata": {},
     "output_type": "execute_result"
    }
   ],
   "source": [
    "df.expirationDateKeyInMatch.value_counts()"
   ]
  },
  {
   "cell_type": "markdown",
   "metadata": {},
   "source": [
    " "
   ]
  },
  {
   "cell_type": "markdown",
   "metadata": {},
   "source": [
    "There are no null values in expirationDateKeyInMatch"
   ]
  },
  {
   "cell_type": "code",
   "execution_count": 214,
   "metadata": {},
   "outputs": [
    {
     "data": {
      "text/plain": [
       "False    773946\n",
       "True      12417\n",
       "Name: isFraud, dtype: int64"
      ]
     },
     "execution_count": 214,
     "metadata": {},
     "output_type": "execute_result"
    }
   ],
   "source": [
    "df.isFraud.value_counts()"
   ]
  },
  {
   "cell_type": "markdown",
   "metadata": {},
   "source": [
    " "
   ]
  },
  {
   "cell_type": "markdown",
   "metadata": {},
   "source": [
    "There are no null values in the target variable"
   ]
  },
  {
   "cell_type": "markdown",
   "metadata": {},
   "source": [
    "#### [4.7]"
   ]
  },
  {
   "cell_type": "markdown",
   "metadata": {},
   "source": [
    "**Assumption:** The following ones are interesting. After a slight look onto the dataframe, it appears that the entire record has null values.\n",
    "\n",
    "\n",
    "**Method:** Using the same value counts, we find the null values for the following records.\n"
   ]
  },
  {
   "cell_type": "code",
   "execution_count": 215,
   "metadata": {},
   "outputs": [
    {
     "name": "stdout",
     "output_type": "stream",
     "text": [
      "    786363\n",
      "Name: echoBuffer, dtype: int64\n",
      "    786363\n",
      "Name: merchantCity, dtype: int64\n",
      "    786363\n",
      "Name: merchantState, dtype: int64\n",
      "    786363\n",
      "Name: merchantZip, dtype: int64\n",
      "    786363\n",
      "Name: posOnPremises, dtype: int64\n",
      "    786363\n",
      "Name: recurringAuthInd, dtype: int64\n"
     ]
    }
   ],
   "source": [
    "print(df.echoBuffer.value_counts())\n",
    "print(df.merchantCity.value_counts())\n",
    "print(df.merchantState.value_counts())\n",
    "print(df.merchantZip.value_counts())\n",
    "print(df.posOnPremises.value_counts())\n",
    "print(df.recurringAuthInd.value_counts())"
   ]
  },
  {
   "cell_type": "markdown",
   "metadata": {},
   "source": [
    " "
   ]
  },
  {
   "cell_type": "markdown",
   "metadata": {},
   "source": [
    "Thus the entire record is of Null values. We can safely remove these from the consideration for using them in further process."
   ]
  },
  {
   "cell_type": "markdown",
   "metadata": {},
   "source": [
    "## [5] Conclusions:\n",
    "\n",
    "Different sets of unique values were found using the unique feature and I could create a new dataframe for creditlimit and group by account numbers.\n",
    "\n",
    "We are also able to identify the null values in every record of the dataset"
   ]
  }
 ],
 "metadata": {
  "kernelspec": {
   "display_name": "Python 3",
   "language": "python",
   "name": "python3"
  },
  "language_info": {
   "codemirror_mode": {
    "name": "ipython",
    "version": 3
   },
   "file_extension": ".py",
   "mimetype": "text/x-python",
   "name": "python",
   "nbconvert_exporter": "python",
   "pygments_lexer": "ipython3",
   "version": "3.8.8"
  }
 },
 "nbformat": 4,
 "nbformat_minor": 4
}
